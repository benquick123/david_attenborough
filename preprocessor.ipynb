{
 "cells": [
  {
   "cell_type": "code",
   "execution_count": 4,
   "metadata": {},
   "outputs": [],
   "source": [
    "import srt\n",
    "from moviepy.editor import *"
   ]
  },
  {
   "cell_type": "code",
   "execution_count": null,
   "metadata": {},
   "outputs": [],
   "source": [
    "# Extract audio from .mkv files\n",
    "\n",
    "for i in range(1,9):\n",
    "    filename = 'OPS01E0'+str(i)\n",
    "    print('PROCESSING:', filename)\n",
    "    video = VideoFileClip(filename+'.mkv') \n",
    "    audio = video.audio \n",
    "    audio.write_audiofile(filename+'.wav', codec='pcm_s16le') "
   ]
  },
  {
   "cell_type": "code",
   "execution_count": 53,
   "metadata": {},
   "outputs": [],
   "source": [
    "e = '8' # Episode number"
   ]
  },
  {
   "cell_type": "code",
   "execution_count": 50,
   "metadata": {},
   "outputs": [],
   "source": [
    "# Get subtitle object\n",
    "\n",
    "subtitle_generator = srt.parse(open('OPS01E0'+e+'.srt', encoding='utf-8'))\n",
    "subtitles = list(subtitle_generator)"
   ]
  },
  {
   "cell_type": "code",
   "execution_count": null,
   "metadata": {},
   "outputs": [],
   "source": [
    "# Split audio into clips\n",
    "\n",
    "ac = AudioFileClip('OPS01E0'+e+'.wav')\n",
    "\n",
    "for i in range(len(subtitles)):\n",
    "    print('Processing clip:', i+1)\n",
    "    print('Text:', subtitles[i].content)\n",
    "    \n",
    "    start = subtitles[i].start.seconds + subtitles[i].start.microseconds/10**6 - 0.1\n",
    "    end = subtitles[i].end.seconds + subtitles[i].end.microseconds/10**6 + 0.25\n",
    "    sub_index = subtitles[i].index\n",
    "\n",
    "    clip = ac.subclip(start, end)\n",
    "    clip.write_audiofile('OPS01E0'+e+'/clip_'+str(sub_index)+'.wav', codec='pcm_s16le')\n",
    "\n",
    "print('DONE.')"
   ]
  },
  {
   "cell_type": "code",
   "execution_count": null,
   "metadata": {},
   "outputs": [],
   "source": [
    "# Create file combining audio file and text content\n",
    "\n",
    "file = open('OPS01E0'+e+'/OPS01E0'+e+'.txt', 'w', encoding='utf-8')\n",
    "for i in range(len(subtitles[:-6])):\n",
    "    line = 'clip_'+str(subtitles[i].index)+' | '+subtitles[i].content.replace('</i>','').replace('<i>','').replace('\\n',' ')+'\\n'\n",
    "    file.write(line)\n",
    "    print(line)"
   ]
  }
 ],
 "metadata": {
  "kernelspec": {
   "display_name": "Python 3",
   "language": "python",
   "name": "python3"
  },
  "language_info": {
   "codemirror_mode": {
    "name": "ipython",
    "version": 3
   },
   "file_extension": ".py",
   "mimetype": "text/x-python",
   "name": "python",
   "nbconvert_exporter": "python",
   "pygments_lexer": "ipython3",
   "version": "3.7.4"
  }
 },
 "nbformat": 4,
 "nbformat_minor": 2
}
