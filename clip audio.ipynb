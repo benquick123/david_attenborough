{
 "cells": [
  {
   "cell_type": "code",
   "execution_count": null,
   "metadata": {},
   "outputs": [],
   "source": [
    "import srt\n",
    "from moviepy.editor import *"
   ]
  },
  {
   "cell_type": "code",
   "execution_count": null,
   "metadata": {},
   "outputs": [],
   "source": [
    "episode = '8'"
   ]
  },
  {
   "cell_type": "code",
   "execution_count": null,
   "metadata": {},
   "outputs": [],
   "source": [
    "subtitle_generator = srt.parse(open('OPS01E0'+episode+'.srt', encoding='utf-8'))"
   ]
  },
  {
   "cell_type": "code",
   "execution_count": null,
   "metadata": {},
   "outputs": [],
   "source": [
    "subtitles = list(subtitle_generator)"
   ]
  },
  {
   "cell_type": "code",
   "execution_count": null,
   "metadata": {},
   "outputs": [],
   "source": [
    "file = open('OPS01E0'+episode+'/OPS01E0'+episode+' data.txt', 'w', encoding='utf-8')\n",
    "for i in range(len(subtitles[:-6])):\n",
    "    line = 'clip_'+str(subtitles[i].index)+' | '+subtitles[i].content.replace('</i>','').replace('<i>','').replace('\\n','')+'\\n'\n",
    "    file.write(line)\n",
    "    print(line)\n",
    "file.close()\n"
   ]
  },
  {
   "cell_type": "code",
   "execution_count": null,
   "metadata": {},
   "outputs": [],
   "source": [
    "ac = AudioFileClip('OPS01E0'+episode+'.wav')\n",
    "\n",
    "for i in range(len(subtitles)):\n",
    "    print('Processing clip:', i+1)\n",
    "    print('Text:', subtitles[i].content)\n",
    "    \n",
    "    start = subtitles[i].start.seconds + subtitles[i].start.microseconds/10**6 - 0.1\n",
    "    end = subtitles[i].end.seconds + subtitles[i].end.microseconds/10**6 + 0.25\n",
    "    sub_index = subtitles[i].index\n",
    "\n",
    "    clip = ac.subclip(start, end)\n",
    "    clip.write_audiofile('OPS01E0'+episode+'/clip_'+str(sub_index)+'.wav', codec='pcm_s16le')\n",
    "\n",
    "print('DONE.')"
   ]
  },
  {
   "cell_type": "code",
   "execution_count": null,
   "metadata": {},
   "outputs": [],
   "source": [
    "subtitles[:5]"
   ]
  },
  {
   "cell_type": "code",
   "execution_count": null,
   "metadata": {},
   "outputs": [],
   "source": [
    "for i in range(len(subtitles)):\n",
    "    print(subtitles[i].start)\n",
    "    print(subtitles[i].content.replace('</i>','').replace('<i>',''))\n",
    "    print(subtitles[i].end)\n",
    "    print(i)\n"
   ]
  },
  {
   "cell_type": "code",
   "execution_count": null,
   "metadata": {},
   "outputs": [],
   "source": []
  },
  {
   "cell_type": "code",
   "execution_count": null,
   "metadata": {},
   "outputs": [],
   "source": []
  }
 ],
 "metadata": {
  "kernelspec": {
   "display_name": "Python 3",
   "language": "python",
   "name": "python3"
  },
  "language_info": {
   "codemirror_mode": {
    "name": "ipython",
    "version": 3
   },
   "file_extension": ".py",
   "mimetype": "text/x-python",
   "name": "python",
   "nbconvert_exporter": "python",
   "pygments_lexer": "ipython3",
   "version": "3.7.4"
  }
 },
 "nbformat": 4,
 "nbformat_minor": 2
}
