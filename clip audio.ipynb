{
 "cells": [
  {
   "cell_type": "code",
   "execution_count": 1,
   "metadata": {},
   "outputs": [],
   "source": [
    "import srt\n",
    "from moviepy.editor import *"
   ]
  },
  {
   "cell_type": "code",
   "execution_count": 2,
   "metadata": {},
   "outputs": [],
   "source": [
    "episode = '5'"
   ]
  },
  {
   "cell_type": "code",
   "execution_count": 3,
   "metadata": {},
   "outputs": [],
   "source": [
    "subtitle_generator = srt.parse(open('OPS01E0'+episode+'.srt', encoding='utf-8'))"
   ]
  },
  {
   "cell_type": "code",
   "execution_count": 4,
   "metadata": {},
   "outputs": [],
   "source": [
    "subtitles = list(subtitle_generator)"
   ]
  },
  {
   "cell_type": "code",
   "execution_count": null,
   "metadata": {},
   "outputs": [
    {
     "name": "stdout",
     "output_type": "stream",
     "text": [
      "Processing clip: 1\n",
      "Text: <i>Just 50 years ago,</i>\n",
      "MoviePy - Writing audio in %s\n"
     ]
    },
    {
     "name": "stderr",
     "output_type": "stream",
     "text": [
      "                                                                                                                       \r"
     ]
    },
    {
     "name": "stdout",
     "output_type": "stream",
     "text": [
      "MoviePy - Done.\n",
      "Processing clip: 2\n",
      "Text: <i>we finally ventured to the moon.</i>\n",
      "MoviePy - Writing audio in %s\n"
     ]
    },
    {
     "name": "stderr",
     "output_type": "stream",
     "text": [
      "                                                                                                                       \r"
     ]
    },
    {
     "name": "stdout",
     "output_type": "stream",
     "text": [
      "MoviePy - Done.\n",
      "Processing clip: 3\n",
      "Text: <i>For the very first time,\n",
      "we looked back at our own planet.</i>\n",
      "MoviePy - Writing audio in %s\n"
     ]
    },
    {
     "name": "stderr",
     "output_type": "stream",
     "text": [
      "                                                                                                                       \r"
     ]
    },
    {
     "name": "stdout",
     "output_type": "stream",
     "text": [
      "MoviePy - Done.\n",
      "Processing clip: 4\n",
      "Text: <i>Since then, the human population\n",
      "has more than doubled.</i>\n",
      "MoviePy - Writing audio in %s\n"
     ]
    },
    {
     "name": "stderr",
     "output_type": "stream",
     "text": [
      "                                                                                                                       \r"
     ]
    },
    {
     "name": "stdout",
     "output_type": "stream",
     "text": [
      "MoviePy - Done.\n",
      "Processing clip: 5\n",
      "Text: <i>This series will celebrate\n",
      "the natural wonders that remain</i>\n",
      "MoviePy - Writing audio in %s\n"
     ]
    },
    {
     "name": "stderr",
     "output_type": "stream",
     "text": [
      "                                                                                                                       \r"
     ]
    },
    {
     "name": "stdout",
     "output_type": "stream",
     "text": [
      "MoviePy - Done.\n",
      "Processing clip: 6\n",
      "Text: <i>and reveal what we must preserve</i>\n",
      "MoviePy - Writing audio in %s\n"
     ]
    },
    {
     "name": "stderr",
     "output_type": "stream",
     "text": [
      "                                                                                                                       \r"
     ]
    },
    {
     "name": "stdout",
     "output_type": "stream",
     "text": [
      "MoviePy - Done.\n",
      "Processing clip: 7\n",
      "Text: <i>to ensure people and nature thrive.</i>\n",
      "MoviePy - Writing audio in %s\n"
     ]
    },
    {
     "name": "stderr",
     "output_type": "stream",
     "text": [
      "                                                                                                                       \r"
     ]
    },
    {
     "name": "stdout",
     "output_type": "stream",
     "text": [
      "MoviePy - Done.\n",
      "Processing clip: 8\n",
      "Text: <i>The Earth still has sanctuaries,</i>\n",
      "MoviePy - Writing audio in %s\n"
     ]
    },
    {
     "name": "stderr",
     "output_type": "stream",
     "text": [
      "                                                                                                                       \r"
     ]
    },
    {
     "name": "stdout",
     "output_type": "stream",
     "text": [
      "MoviePy - Done.\n",
      "Processing clip: 9\n",
      "Text: <i>and, on occasion, they hold\n",
      "spectacular gatherings of wildlife.</i>\n",
      "MoviePy - Writing audio in %s\n"
     ]
    },
    {
     "name": "stderr",
     "output_type": "stream",
     "text": [
      "                                                                                                                       \r"
     ]
    },
    {
     "name": "stdout",
     "output_type": "stream",
     "text": [
      "MoviePy - Done.\n",
      "Processing clip: 10\n",
      "Text: <i>They provide vital space,\n",
      "but they're disappearing fast.</i>\n",
      "MoviePy - Writing audio in %s\n"
     ]
    },
    {
     "name": "stderr",
     "output_type": "stream",
     "text": [
      "                                                                                                                       \r"
     ]
    },
    {
     "name": "stdout",
     "output_type": "stream",
     "text": [
      "MoviePy - Done.\n",
      "Processing clip: 11\n",
      "Text: <i>A fifth of the land\n",
      "on our planet is covered by desert.</i>\n",
      "MoviePy - Writing audio in %s\n"
     ]
    },
    {
     "name": "stderr",
     "output_type": "stream",
     "text": [
      "                                                                                                                       \r"
     ]
    },
    {
     "name": "stdout",
     "output_type": "stream",
     "text": [
      "MoviePy - Done.\n",
      "Processing clip: 12\n",
      "Text: <i>The driest of all\n",
      "is the Atacama in South America.</i>\n",
      "MoviePy - Writing audio in %s\n"
     ]
    },
    {
     "name": "stderr",
     "output_type": "stream",
     "text": [
      "                                                                                                                       \r"
     ]
    },
    {
     "name": "stdout",
     "output_type": "stream",
     "text": [
      "MoviePy - Done.\n",
      "Processing clip: 13\n",
      "Text: <i>There are places here\n",
      "where rain has never been recorded.</i>\n",
      "MoviePy - Writing audio in %s\n"
     ]
    },
    {
     "name": "stderr",
     "output_type": "stream",
     "text": [
      "                                                                                                                       \r"
     ]
    },
    {
     "name": "stdout",
     "output_type": "stream",
     "text": [
      "MoviePy - Done.\n",
      "Processing clip: 14\n",
      "Text: <i>Deserts may appear to be barren and empty,</i>\n",
      "MoviePy - Writing audio in %s\n"
     ]
    },
    {
     "name": "stderr",
     "output_type": "stream",
     "text": [
      "                                                                                                                       \r"
     ]
    },
    {
     "name": "stdout",
     "output_type": "stream",
     "text": [
      "MoviePy - Done.\n",
      "Processing clip: 15\n",
      "Text: <i>but they are of crucial importance\n",
      "to life.</i>\n",
      "MoviePy - Writing audio in %s\n"
     ]
    },
    {
     "name": "stderr",
     "output_type": "stream",
     "text": [
      "                                                                                                                       \r"
     ]
    },
    {
     "name": "stdout",
     "output_type": "stream",
     "text": [
      "MoviePy - Done.\n",
      "Processing clip: 16\n",
      "Text: <i>For those that can overcome\n",
      "their challenges,</i>\n",
      "MoviePy - Writing audio in %s\n"
     ]
    },
    {
     "name": "stderr",
     "output_type": "stream",
     "text": [
      "                                                                                                                       \r"
     ]
    },
    {
     "name": "stdout",
     "output_type": "stream",
     "text": [
      "MoviePy - Done.\n",
      "Processing clip: 17\n",
      "Text: <i>they provide a vital refuge.</i>\n",
      "MoviePy - Writing audio in %s\n"
     ]
    },
    {
     "name": "stderr",
     "output_type": "stream",
     "text": [
      "                                                                                                                       \r"
     ]
    },
    {
     "name": "stdout",
     "output_type": "stream",
     "text": [
      "MoviePy - Done.\n",
      "Processing clip: 18\n",
      "Text: <i>Socotran cormorants,</i>\n",
      "MoviePy - Writing audio in %s\n"
     ]
    },
    {
     "name": "stderr",
     "output_type": "stream",
     "text": [
      "                                                                                                                       \r"
     ]
    },
    {
     "name": "stdout",
     "output_type": "stream",
     "text": [
      "MoviePy - Done.\n",
      "Processing clip: 19\n",
      "Text: <i>emerging from a dust storm\n",
      "in the Arabian desert.</i>\n",
      "MoviePy - Writing audio in %s\n"
     ]
    },
    {
     "name": "stderr",
     "output_type": "stream",
     "text": [
      "                                                                                                                       \r"
     ]
    },
    {
     "name": "stdout",
     "output_type": "stream",
     "text": [
      "MoviePy - Done.\n",
      "Processing clip: 20\n",
      "Text: <i>It is the very emptiness of this landscape\n",
      "that has brought them here,</i>\n",
      "MoviePy - Writing audio in %s\n"
     ]
    },
    {
     "name": "stderr",
     "output_type": "stream",
     "text": [
      "                                                                                                                       \r"
     ]
    },
    {
     "name": "stdout",
     "output_type": "stream",
     "text": [
      "MoviePy - Done.\n",
      "Processing clip: 21\n",
      "Text: <i>and they have come in immense numbers.</i>\n",
      "MoviePy - Writing audio in %s\n"
     ]
    },
    {
     "name": "stderr",
     "output_type": "stream",
     "text": [
      "                                                                                                                       \r"
     ]
    },
    {
     "name": "stdout",
     "output_type": "stream",
     "text": [
      "MoviePy - Done.\n",
      "Processing clip: 22\n",
      "Text: <i>Fifty thousand of them.</i>\n",
      "MoviePy - Writing audio in %s\n"
     ]
    },
    {
     "name": "stderr",
     "output_type": "stream",
     "text": [
      "                                                                                                                       \r"
     ]
    },
    {
     "name": "stdout",
     "output_type": "stream",
     "text": [
      "MoviePy - Done.\n",
      "Processing clip: 23\n",
      "Text: <i>A quarter of the total population.</i>\n",
      "MoviePy - Writing audio in %s\n"
     ]
    },
    {
     "name": "stderr",
     "output_type": "stream",
     "text": [
      "                                                                                                                       \r"
     ]
    },
    {
     "name": "stdout",
     "output_type": "stream",
     "text": [
      "MoviePy - Done.\n",
      "Processing clip: 24\n",
      "Text: <i>They have come\n",
      "because here they can breed...</i>\n",
      "MoviePy - Writing audio in %s\n"
     ]
    },
    {
     "name": "stderr",
     "output_type": "stream",
     "text": [
      "                                                                                                                       \r"
     ]
    },
    {
     "name": "stdout",
     "output_type": "stream",
     "text": [
      "MoviePy - Done.\n",
      "Processing clip: 25\n",
      "Text: <i>undisturbed.</i>\n",
      "MoviePy - Writing audio in %s\n"
     ]
    },
    {
     "name": "stderr",
     "output_type": "stream",
     "text": [
      "                                                                                                                       \r"
     ]
    },
    {
     "name": "stdout",
     "output_type": "stream",
     "text": [
      "MoviePy - Done.\n",
      "Processing clip: 26\n",
      "Text: <i>But nesting in a desert is difficult.</i>\n",
      "MoviePy - Writing audio in %s\n"
     ]
    },
    {
     "name": "stderr",
     "output_type": "stream",
     "text": [
      "                                                                                                                       \r"
     ]
    },
    {
     "name": "stdout",
     "output_type": "stream",
     "text": [
      "MoviePy - Done.\n",
      "Processing clip: 27\n",
      "Text: <i>Temperatures can reach 40 degrees Celsius.</i>\n",
      "MoviePy - Writing audio in %s\n"
     ]
    },
    {
     "name": "stderr",
     "output_type": "stream",
     "text": [
      "                                                                                                                       \r"
     ]
    },
    {
     "name": "stdout",
     "output_type": "stream",
     "text": [
      "MoviePy - Done.\n",
      "Processing clip: 28\n",
      "Text: <i>Yet, both the adults\n",
      "and their white chicks</i>\n",
      "MoviePy - Writing audio in %s\n"
     ]
    },
    {
     "name": "stderr",
     "output_type": "stream",
     "text": [
      "                                                                                                                       \r"
     ]
    },
    {
     "name": "stdout",
     "output_type": "stream",
     "text": [
      "MoviePy - Done.\n",
      "Processing clip: 29\n",
      "Text: <i>are ready for this challenge.</i>\n",
      "MoviePy - Writing audio in %s\n"
     ]
    },
    {
     "name": "stderr",
     "output_type": "stream",
     "text": [
      "                                                                                                                       \r"
     ]
    },
    {
     "name": "stdout",
     "output_type": "stream",
     "text": [
      "MoviePy - Done.\n",
      "Processing clip: 30\n",
      "Text: <i>They cool themselves\n",
      "by panting.</i>\n",
      "MoviePy - Writing audio in %s\n"
     ]
    },
    {
     "name": "stderr",
     "output_type": "stream",
     "text": [
      "                                                                                                                       \r"
     ]
    },
    {
     "name": "stdout",
     "output_type": "stream",
     "text": [
      "MoviePy - Done.\n",
      "Processing clip: 31\n",
      "Text: <i>Any adult that appears to have food\n",
      "in its crop is mobbed.</i>\n",
      "MoviePy - Writing audio in %s\n"
     ]
    },
    {
     "name": "stderr",
     "output_type": "stream",
     "text": [
      "                                                                                                                       \r"
     ]
    },
    {
     "name": "stdout",
     "output_type": "stream",
     "text": [
      "MoviePy - Done.\n",
      "Processing clip: 32\n",
      "Text: <i>An adult will only give food\n",
      "to its own chick,</i>\n",
      "MoviePy - Writing audio in %s\n"
     ]
    },
    {
     "name": "stderr",
     "output_type": "stream",
     "text": [
      "                                                                                                                       \r"
     ]
    },
    {
     "name": "stdout",
     "output_type": "stream",
     "text": [
      "MoviePy - Done.\n",
      "Processing clip: 33\n",
      "Text: <i>which must be here somewhere.</i>\n",
      "MoviePy - Writing audio in %s\n"
     ]
    },
    {
     "name": "stderr",
     "output_type": "stream",
     "text": [
      "                                                                                                                       \r"
     ]
    },
    {
     "name": "stdout",
     "output_type": "stream",
     "text": [
      "MoviePy - Done.\n",
      "Processing clip: 34\n",
      "Text: <i>The chicks chase an adult\n",
      "out into the desert.</i>\n",
      "MoviePy - Writing audio in %s\n"
     ]
    },
    {
     "name": "stderr",
     "output_type": "stream",
     "text": [
      "                                                                                                                       \r"
     ]
    },
    {
     "name": "stdout",
     "output_type": "stream",
     "text": [
      "MoviePy - Done.\n",
      "Processing clip: 35\n",
      "Text: <i>No luck.</i>\n",
      "MoviePy - Writing audio in %s\n"
     ]
    },
    {
     "name": "stderr",
     "output_type": "stream",
     "text": [
      "                                                                                                                       \r"
     ]
    },
    {
     "name": "stdout",
     "output_type": "stream",
     "text": [
      "MoviePy - Done.\n",
      "Processing clip: 36\n",
      "Text: <i>Now, they must get back quickly\n",
      "to the safety of the colony.</i>\n",
      "MoviePy - Writing audio in %s\n"
     ]
    },
    {
     "name": "stderr",
     "output_type": "stream",
     "text": [
      "                                                                                                                       \r"
     ]
    },
    {
     "name": "stdout",
     "output_type": "stream",
     "text": [
      "MoviePy - Done.\n",
      "Processing clip: 37\n",
      "Text: <i>This desert provides the cormorants</i>\n",
      "MoviePy - Writing audio in %s\n"
     ]
    },
    {
     "name": "stderr",
     "output_type": "stream",
     "text": [
      "                                                                                                                       \r"
     ]
    },
    {
     "name": "stdout",
     "output_type": "stream",
     "text": [
      "MoviePy - Done.\n",
      "Processing clip: 38\n",
      "Text: <i>with more than just a secure refuge.</i>\n",
      "MoviePy - Writing audio in %s\n"
     ]
    },
    {
     "name": "stderr",
     "output_type": "stream",
     "text": [
      "                                                                                                                       \r"
     ]
    },
    {
     "name": "stdout",
     "output_type": "stream",
     "text": [
      "MoviePy - Done.\n",
      "Processing clip: 39\n",
      "Text: <i>Every morning, a mass movement begins.</i>\n",
      "MoviePy - Writing audio in %s\n"
     ]
    },
    {
     "name": "stderr",
     "output_type": "stream",
     "text": [
      "                                                                                                                       \r"
     ]
    },
    {
     "name": "stdout",
     "output_type": "stream",
     "text": [
      "MoviePy - Done.\n",
      "Processing clip: 40\n",
      "Text: <i>It's the rush hour.</i>\n",
      "MoviePy - Writing audio in %s\n"
     ]
    },
    {
     "name": "stderr",
     "output_type": "stream",
     "text": [
      "                                                                                                                       \r"
     ]
    },
    {
     "name": "stdout",
     "output_type": "stream",
     "text": [
      "MoviePy - Done.\n",
      "Processing clip: 41\n",
      "Text: <i>A shallow arm of the sea,\n",
      "right beside the colony,</i>\n",
      "MoviePy - Writing audio in %s\n"
     ]
    },
    {
     "name": "stderr",
     "output_type": "stream",
     "text": [
      "                                                                                                                       \r"
     ]
    },
    {
     "name": "stdout",
     "output_type": "stream",
     "text": [
      "MoviePy - Done.\n",
      "Processing clip: 42\n",
      "Text: <i>is full of food.</i>\n",
      "MoviePy - Writing audio in %s\n"
     ]
    },
    {
     "name": "stderr",
     "output_type": "stream",
     "text": [
      "                                                                                                                       \r"
     ]
    },
    {
     "name": "stdout",
     "output_type": "stream",
     "text": [
      "MoviePy - Done.\n",
      "Processing clip: 43\n",
      "Text: <i>This richness comes\n",
      "from the desert itself.</i>\n",
      "MoviePy - Writing audio in %s\n"
     ]
    },
    {
     "name": "stderr",
     "output_type": "stream",
     "text": [
      "                                                                                                                       \r"
     ]
    },
    {
     "name": "stdout",
     "output_type": "stream",
     "text": [
      "MoviePy - Done.\n",
      "Processing clip: 44\n",
      "Text: <i>Dust, blown from the land,</i>\n",
      "MoviePy - Writing audio in %s\n"
     ]
    },
    {
     "name": "stderr",
     "output_type": "stream",
     "text": [
      "                                                                                                                       \r"
     ]
    },
    {
     "name": "stdout",
     "output_type": "stream",
     "text": [
      "MoviePy - Done.\n",
      "Processing clip: 45\n",
      "Text: <i>contains nutrients\n",
      "that fertilize the surrounding waters.</i>\n",
      "MoviePy - Writing audio in %s\n"
     ]
    },
    {
     "name": "stderr",
     "output_type": "stream",
     "text": [
      "                                                                                                                       \r"
     ]
    },
    {
     "name": "stdout",
     "output_type": "stream",
     "text": [
      "MoviePy - Done.\n",
      "Processing clip: 46\n",
      "Text: <i>So, it is the desert itself\n",
      "that enriches the sea.</i>\n",
      "MoviePy - Writing audio in %s\n"
     ]
    },
    {
     "name": "stderr",
     "output_type": "stream",
     "text": [
      "                                                                                                                       \r"
     ]
    },
    {
     "name": "stdout",
     "output_type": "stream",
     "text": [
      "MoviePy - Done.\n",
      "Processing clip: 47\n",
      "Text: <i>In Oman, during the summer monsoon,\n",
      "fogs roll in from the sea,</i>\n",
      "MoviePy - Writing audio in %s\n"
     ]
    },
    {
     "name": "stderr",
     "output_type": "stream",
     "text": [
      "                                                                                                                       \r"
     ]
    },
    {
     "name": "stdout",
     "output_type": "stream",
     "text": [
      "MoviePy - Done.\n",
      "Processing clip: 48\n",
      "Text: <i>billowing over the Dhofar mountains.</i>\n",
      "MoviePy - Writing audio in %s\n"
     ]
    },
    {
     "name": "stderr",
     "output_type": "stream",
     "text": [
      "                                                                                                                       \r"
     ]
    },
    {
     "name": "stdout",
     "output_type": "stream",
     "text": [
      "MoviePy - Done.\n",
      "Processing clip: 49\n",
      "Text: <i>The mists bring just enough moisture\n",
      "to sustain a little vegetation...</i>\n",
      "MoviePy - Writing audio in %s\n"
     ]
    },
    {
     "name": "stderr",
     "output_type": "stream",
     "text": [
      "                                                                                                                       \r"
     ]
    },
    {
     "name": "stdout",
     "output_type": "stream",
     "text": [
      "MoviePy - Done.\n",
      "Processing clip: 50\n",
      "Text: <i>and this sparse greenery\n",
      "becomes a focus for life.</i>\n",
      "MoviePy - Writing audio in %s\n"
     ]
    },
    {
     "name": "stderr",
     "output_type": "stream",
     "text": [
      "                                                                                                                       \r"
     ]
    },
    {
     "name": "stdout",
     "output_type": "stream",
     "text": [
      "MoviePy - Done.\n",
      "Processing clip: 51\n",
      "Text: <i>Ibex must cross the near vertical cliffs\n",
      "to reach one of the few springs.</i>\n",
      "MoviePy - Writing audio in %s\n"
     ]
    },
    {
     "name": "stderr",
     "output_type": "stream",
     "text": [
      "                                                                                                                       \r"
     ]
    },
    {
     "name": "stdout",
     "output_type": "stream",
     "text": [
      "MoviePy - Done.\n",
      "Processing clip: 52\n",
      "Text: <i>But they're nervous...</i>\n",
      "MoviePy - Writing audio in %s\n"
     ]
    },
    {
     "name": "stderr",
     "output_type": "stream",
     "text": [
      "                                                                                                                       \r"
     ]
    },
    {
     "name": "stdout",
     "output_type": "stream",
     "text": [
      "MoviePy - Done.\n",
      "Processing clip: 53\n",
      "Text: <i>and with good reason.</i>\n",
      "MoviePy - Writing audio in %s\n"
     ]
    },
    {
     "name": "stderr",
     "output_type": "stream",
     "text": [
      "                                                                                                                       \r"
     ]
    },
    {
     "name": "stdout",
     "output_type": "stream",
     "text": [
      "MoviePy - Done.\n",
      "Processing clip: 54\n",
      "Text: <i>An Arabian leopard,</i>\n",
      "MoviePy - Writing audio in %s\n"
     ]
    },
    {
     "name": "stderr",
     "output_type": "stream",
     "text": [
      "                                                                                                                       \r"
     ]
    },
    {
     "name": "stdout",
     "output_type": "stream",
     "text": [
      "MoviePy - Done.\n",
      "Processing clip: 55\n",
      "Text: <i>one of less than 200\n",
      "that survive in the wild.</i>\n",
      "MoviePy - Writing audio in %s\n"
     ]
    },
    {
     "name": "stderr",
     "output_type": "stream",
     "text": [
      "                                                                                                                       \r"
     ]
    },
    {
     "name": "stdout",
     "output_type": "stream",
     "text": [
      "MoviePy - Done.\n",
      "Processing clip: 56\n",
      "Text: <i>This male's territory</i>\n",
      "MoviePy - Writing audio in %s\n"
     ]
    },
    {
     "name": "stderr",
     "output_type": "stream",
     "text": [
      "                                                                                                                       \r"
     ]
    },
    {
     "name": "stdout",
     "output_type": "stream",
     "text": [
      "MoviePy - Done.\n",
      "Processing clip: 57\n",
      "Text: <i>extends over 350 square kilometers\n",
      "of high mountains and deep wadis.</i>\n",
      "MoviePy - Writing audio in %s\n"
     ]
    },
    {
     "name": "stderr",
     "output_type": "stream",
     "text": [
      "                                                                                                                       \r"
     ]
    },
    {
     "name": "stdout",
     "output_type": "stream",
     "text": [
      "MoviePy - Done.\n",
      "Processing clip: 58\n",
      "Text: <i>The southern edge\n",
      "of the Arabian Peninsula</i>\n",
      "MoviePy - Writing audio in %s\n"
     ]
    },
    {
     "name": "stderr",
     "output_type": "stream",
     "text": [
      "                                                                                                                       \r"
     ]
    },
    {
     "name": "stdout",
     "output_type": "stream",
     "text": [
      "MoviePy - Done.\n",
      "Processing clip: 59\n",
      "Text: <i>is one of the few places left\n",
      "where there is enough prey</i>\n",
      "MoviePy - Writing audio in %s\n"
     ]
    },
    {
     "name": "stderr",
     "output_type": "stream",
     "text": [
      "                                                                                                                       \r"
     ]
    },
    {
     "name": "stdout",
     "output_type": "stream",
     "text": [
      "MoviePy - Done.\n",
      "Processing clip: 60\n",
      "Text: <i>to sustain a population of these leopards.</i>\n",
      "MoviePy - Writing audio in %s\n"
     ]
    },
    {
     "name": "stderr",
     "output_type": "stream",
     "text": [
      "                                                                                                                       \r"
     ]
    },
    {
     "name": "stdout",
     "output_type": "stream",
     "text": [
      "MoviePy - Done.\n",
      "Processing clip: 61\n",
      "Text: <i>But even so, there are probably\n",
      "less than 60 individuals</i>\n",
      "MoviePy - Writing audio in %s\n"
     ]
    },
    {
     "name": "stderr",
     "output_type": "stream",
     "text": [
      "                                                                                                                       \r"
     ]
    },
    {
     "name": "stdout",
     "output_type": "stream",
     "text": [
      "MoviePy - Done.\n",
      "Processing clip: 62\n",
      "Text: <i>in over 15,000 square kilometers.</i>\n",
      "MoviePy - Writing audio in %s\n"
     ]
    },
    {
     "name": "stderr",
     "output_type": "stream",
     "text": [
      "                                                                                                                       \r"
     ]
    },
    {
     "name": "stdout",
     "output_type": "stream",
     "text": [
      "MoviePy - Done.\n",
      "Processing clip: 63\n",
      "Text: <i>These leopards have always been rare,</i>\n",
      "MoviePy - Writing audio in %s\n"
     ]
    },
    {
     "name": "stderr",
     "output_type": "stream",
     "text": [
      "                                                                                                                       \r"
     ]
    },
    {
     "name": "stdout",
     "output_type": "stream",
     "text": [
      "MoviePy - Done.\n",
      "Processing clip: 64\n",
      "Text: <i>but now conflict with people</i>\n",
      "MoviePy - Writing audio in %s\n"
     ]
    },
    {
     "name": "stderr",
     "output_type": "stream",
     "text": [
      "                                                                                                                       \r"
     ]
    },
    {
     "name": "stdout",
     "output_type": "stream",
     "text": [
      "MoviePy - Done.\n",
      "Processing clip: 65\n",
      "Text: <i>is causing their numbers\n",
      "to decline still further.</i>\n",
      "MoviePy - Writing audio in %s\n"
     ]
    },
    {
     "name": "stderr",
     "output_type": "stream",
     "text": [
      "                                                                                                                       \r"
     ]
    },
    {
     "name": "stdout",
     "output_type": "stream",
     "text": [
      "MoviePy - Done.\n",
      "Processing clip: 66\n",
      "Text: <i>Few leopards are left,</i>\n",
      "MoviePy - Writing audio in %s\n"
     ]
    },
    {
     "name": "stderr",
     "output_type": "stream",
     "text": [
      "                                                                                                                       \r"
     ]
    },
    {
     "name": "stdout",
     "output_type": "stream",
     "text": [
      "MoviePy - Done.\n",
      "Processing clip: 67\n",
      "Text: <i>so what our hidden cameras now capture\n",
      "verges on the miraculous.</i>\n",
      "MoviePy - Writing audio in %s\n"
     ]
    },
    {
     "name": "stderr",
     "output_type": "stream",
     "text": [
      "                                                                                                                       \r"
     ]
    },
    {
     "name": "stdout",
     "output_type": "stream",
     "text": [
      "MoviePy - Done.\n",
      "Processing clip: 68\n",
      "Text: <i>A female leopard,</i>\n",
      "MoviePy - Writing audio in %s\n"
     ]
    },
    {
     "name": "stderr",
     "output_type": "stream",
     "text": [
      "                                                                                                                       \r"
     ]
    },
    {
     "name": "stdout",
     "output_type": "stream",
     "text": [
      "MoviePy - Done.\n",
      "Processing clip: 69\n",
      "Text: <i>and she is tracking a male.</i>\n",
      "MoviePy - Writing audio in %s\n"
     ]
    },
    {
     "name": "stderr",
     "output_type": "stream",
     "text": [
      "                                                                                                                       \r"
     ]
    },
    {
     "name": "stdout",
     "output_type": "stream",
     "text": [
      "MoviePy - Done.\n",
      "Processing clip: 70\n",
      "Text: <i>Such meetings\n",
      "are becoming increasingly rare.</i>\n",
      "MoviePy - Writing audio in %s\n"
     ]
    },
    {
     "name": "stderr",
     "output_type": "stream",
     "text": [
      "                                                                                                                       \r"
     ]
    },
    {
     "name": "stdout",
     "output_type": "stream",
     "text": [
      "MoviePy - Done.\n",
      "Processing clip: 71\n",
      "Text: <i>This briefest of unions</i>\n",
      "MoviePy - Writing audio in %s\n"
     ]
    },
    {
     "name": "stderr",
     "output_type": "stream",
     "text": [
      "                                                                                                                       \r"
     ]
    },
    {
     "name": "stdout",
     "output_type": "stream",
     "text": [
      "MoviePy - Done.\n",
      "Processing clip: 72\n",
      "Text: <i>may ensure\n",
      "the short-term future for these leopards.</i>\n",
      "MoviePy - Writing audio in %s\n"
     ]
    },
    {
     "name": "stderr",
     "output_type": "stream",
     "text": [
      "                                                                                                                       \r"
     ]
    },
    {
     "name": "stdout",
     "output_type": "stream",
     "text": [
      "MoviePy - Done.\n",
      "Processing clip: 73\n",
      "Text: <i>But in the longer term,</i>\n",
      "MoviePy - Writing audio in %s\n"
     ]
    },
    {
     "name": "stderr",
     "output_type": "stream",
     "text": [
      "                                                                                                                       \r"
     ]
    },
    {
     "name": "stdout",
     "output_type": "stream",
     "text": [
      "MoviePy - Done.\n",
      "Processing clip: 74\n",
      "Text: <i>their fate will depend\n",
      "on their territory being protected.</i>\n",
      "MoviePy - Writing audio in %s\n"
     ]
    },
    {
     "name": "stderr",
     "output_type": "stream",
     "text": [
      "                                                                                                                       \r"
     ]
    },
    {
     "name": "stdout",
     "output_type": "stream",
     "text": [
      "MoviePy - Done.\n",
      "Processing clip: 75\n",
      "Text: <i>To the north of the Dhofar mountains</i>\n",
      "MoviePy - Writing audio in %s\n"
     ]
    },
    {
     "name": "stderr",
     "output_type": "stream",
     "text": [
      "                                                                                                                       \r"
     ]
    },
    {
     "name": "stdout",
     "output_type": "stream",
     "text": [
      "MoviePy - Done.\n",
      "Processing clip: 76\n",
      "Text: <i>lies a place\n",
      "of almost unimaginable emptiness.</i>\n",
      "MoviePy - Writing audio in %s\n"
     ]
    },
    {
     "name": "stderr",
     "output_type": "stream",
     "text": [
      "                                                                                                                       \r"
     ]
    },
    {
     "name": "stdout",
     "output_type": "stream",
     "text": [
      "MoviePy - Done.\n",
      "Processing clip: 77\n",
      "Text: <i>The Rub' al Khali,</i>\n",
      "MoviePy - Writing audio in %s\n"
     ]
    },
    {
     "name": "stderr",
     "output_type": "stream",
     "text": [
      "                                                                                                                       \r"
     ]
    },
    {
     "name": "stdout",
     "output_type": "stream",
     "text": [
      "MoviePy - Done.\n",
      "Processing clip: 78\n",
      "Text: <i>the Empty Quarter.</i>\n",
      "MoviePy - Writing audio in %s\n"
     ]
    },
    {
     "name": "stderr",
     "output_type": "stream",
     "text": [
      "                                                                                                                       \r"
     ]
    },
    {
     "name": "stdout",
     "output_type": "stream",
     "text": [
      "MoviePy - Done.\n",
      "Processing clip: 79\n",
      "Text: <i>The very name of the place</i>\n",
      "MoviePy - Writing audio in %s\n"
     ]
    },
    {
     "name": "stderr",
     "output_type": "stream",
     "text": [
      "                                                                                                                       \r"
     ]
    },
    {
     "name": "stdout",
     "output_type": "stream",
     "text": [
      "MoviePy - Done.\n",
      "Processing clip: 80\n",
      "Text: <i>resonates with the romance\n",
      "of these desert lands.</i>\n",
      "MoviePy - Writing audio in %s\n"
     ]
    },
    {
     "name": "stderr",
     "output_type": "stream",
     "text": [
      "                                                                                                                       \r"
     ]
    },
    {
     "name": "stdout",
     "output_type": "stream",
     "text": [
      "MoviePy - Done.\n",
      "Processing clip: 81\n",
      "Text: <i>This is the largest sand sea\n",
      "in the world.</i>\n",
      "MoviePy - Writing audio in %s\n"
     ]
    },
    {
     "name": "stderr",
     "output_type": "stream",
     "text": [
      "                                                                                                                       \r"
     ]
    },
    {
     "name": "stdout",
     "output_type": "stream",
     "text": [
      "MoviePy - Done.\n",
      "Processing clip: 82\n",
      "Text: <i>There are parts\n",
      "where human beings never venture.</i>\n",
      "MoviePy - Writing audio in %s\n"
     ]
    },
    {
     "name": "stderr",
     "output_type": "stream",
     "text": [
      "                                                                                                                       \r"
     ]
    },
    {
     "name": "stdout",
     "output_type": "stream",
     "text": [
      "MoviePy - Done.\n",
      "Processing clip: 83\n",
      "Text: <i>Only the greatest desert specialists\n",
      "can survive here.</i>\n",
      "MoviePy - Writing audio in %s\n"
     ]
    },
    {
     "name": "stderr",
     "output_type": "stream",
     "text": [
      "                                                                                                                       \r"
     ]
    },
    {
     "name": "stdout",
     "output_type": "stream",
     "text": [
      "MoviePy - Done.\n",
      "Processing clip: 84\n",
      "Text: <i>Arabian oryx.</i>\n",
      "MoviePy - Writing audio in %s\n"
     ]
    },
    {
     "name": "stderr",
     "output_type": "stream",
     "text": [
      "                                                                                                                       \r"
     ]
    },
    {
     "name": "stdout",
     "output_type": "stream",
     "text": [
      "MoviePy - Done.\n",
      "Processing clip: 85\n",
      "Text: <i>Their ranges are vast,</i>\n",
      "MoviePy - Writing audio in %s\n"
     ]
    },
    {
     "name": "stderr",
     "output_type": "stream",
     "text": [
      "                                                                                                                       \r"
     ]
    },
    {
     "name": "stdout",
     "output_type": "stream",
     "text": [
      "MoviePy - Done.\n",
      "Processing clip: 86\n",
      "Text: <i>extending\n",
      "for over 3,000 square kilometers.</i>\n",
      "MoviePy - Writing audio in %s\n"
     ]
    },
    {
     "name": "stderr",
     "output_type": "stream",
     "text": [
      "                                                                                                                       \r"
     ]
    },
    {
     "name": "stdout",
     "output_type": "stream",
     "text": [
      "MoviePy - Done.\n",
      "Processing clip: 87\n",
      "Text: <i>This is one of their last refuges.</i>\n",
      "MoviePy - Writing audio in %s\n"
     ]
    },
    {
     "name": "stderr",
     "output_type": "stream",
     "text": [
      "                                                                                                                       \r"
     ]
    },
    {
     "name": "stdout",
     "output_type": "stream",
     "text": [
      "MoviePy - Done.\n",
      "Processing clip: 88\n",
      "Text: <i>Once hunted close to extinction,</i>\n",
      "MoviePy - Writing audio in %s\n"
     ]
    },
    {
     "name": "stderr",
     "output_type": "stream",
     "text": [
      "                                                                                                                       \r"
     ]
    },
    {
     "name": "stdout",
     "output_type": "stream",
     "text": [
      "MoviePy - Done.\n",
      "Processing clip: 89\n",
      "Text: <i>they have now reclaimed\n",
      "their ancestral territory.</i>\n",
      "MoviePy - Writing audio in %s\n"
     ]
    },
    {
     "name": "stderr",
     "output_type": "stream",
     "text": [
      "                                                                                                                       \r"
     ]
    },
    {
     "name": "stdout",
     "output_type": "stream",
     "text": [
      "MoviePy - Done.\n",
      "Processing clip: 90\n",
      "Text: <i>With the help of conservationists,\n",
      "they have returned home.</i>\n",
      "MoviePy - Writing audio in %s\n"
     ]
    },
    {
     "name": "stderr",
     "output_type": "stream",
     "text": [
      "                                                                                                                       \r"
     ]
    },
    {
     "name": "stdout",
     "output_type": "stream",
     "text": [
      "MoviePy - Done.\n",
      "Processing clip: 91\n",
      "Text: <i>But reintroduction\n",
      "cannot save all desert animals.</i>\n",
      "MoviePy - Writing audio in %s\n"
     ]
    },
    {
     "name": "stderr",
     "output_type": "stream",
     "text": [
      "                                                                                                                       \r"
     ]
    },
    {
     "name": "stdout",
     "output_type": "stream",
     "text": [
      "MoviePy - Done.\n",
      "Processing clip: 92\n",
      "Text: <i>Desert elephants.</i>\n",
      "MoviePy - Writing audio in %s\n"
     ]
    },
    {
     "name": "stderr",
     "output_type": "stream",
     "text": [
      "                                                                                                                       \r"
     ]
    },
    {
     "name": "stdout",
     "output_type": "stream",
     "text": [
      "MoviePy - Done.\n",
      "Processing clip: 93\n",
      "Text: <i>Less than 150 survive, here in Namibia.</i>\n",
      "MoviePy - Writing audio in %s\n"
     ]
    },
    {
     "name": "stderr",
     "output_type": "stream",
     "text": [
      "                                                                                                                       \r"
     ]
    },
    {
     "name": "stdout",
     "output_type": "stream",
     "text": [
      "MoviePy - Done.\n",
      "Processing clip: 94\n",
      "Text: <i>This oldest of deserts\n",
      "is scarred by dry riverbeds,</i>\n",
      "MoviePy - Writing audio in %s\n"
     ]
    },
    {
     "name": "stderr",
     "output_type": "stream",
     "text": [
      "                                                                                                                       \r"
     ]
    },
    {
     "name": "stdout",
     "output_type": "stream",
     "text": [
      "MoviePy - Done.\n",
      "Processing clip: 95\n",
      "Text: <i>carved by water that flows\n",
      "for only one or two days in a year.</i>\n",
      "MoviePy - Writing audio in %s\n"
     ]
    },
    {
     "name": "stderr",
     "output_type": "stream",
     "text": [
      "                                                                                                                       \r"
     ]
    },
    {
     "name": "stdout",
     "output_type": "stream",
     "text": [
      "MoviePy - Done.\n",
      "Processing clip: 96\n",
      "Text: <i>An adult elephant</i>\n",
      "MoviePy - Writing audio in %s\n"
     ]
    },
    {
     "name": "stderr",
     "output_type": "stream",
     "text": [
      "                                                                                                                       \r"
     ]
    },
    {
     "name": "stdout",
     "output_type": "stream",
     "text": [
      "MoviePy - Done.\n",
      "Processing clip: 97\n",
      "Text: <i>must find up to 200 kilos of food\n",
      "each and every day if it's not to starve.</i>\n",
      "MoviePy - Writing audio in %s\n"
     ]
    },
    {
     "name": "stderr",
     "output_type": "stream",
     "text": [
      "                                                                                                                       \r"
     ]
    },
    {
     "name": "stdout",
     "output_type": "stream",
     "text": [
      "MoviePy - Done.\n",
      "Processing clip: 98\n",
      "Text: <i>So, for these last survivors,\n",
      "life is an endless trek.</i>\n",
      "MoviePy - Writing audio in %s\n"
     ]
    },
    {
     "name": "stderr",
     "output_type": "stream",
     "text": [
      "                                                                                                                       \r"
     ]
    },
    {
     "name": "stdout",
     "output_type": "stream",
     "text": [
      "MoviePy - Done.\n",
      "Processing clip: 99\n",
      "Text: <i>The herd is guided by a single old female,\n",
      "the matriarch.</i>\n",
      "MoviePy - Writing audio in %s\n"
     ]
    },
    {
     "name": "stderr",
     "output_type": "stream",
     "text": [
      "                                                                                                                       \r"
     ]
    },
    {
     "name": "stdout",
     "output_type": "stream",
     "text": [
      "MoviePy - Done.\n",
      "Processing clip: 100\n",
      "Text: <i>She is leading her family</i>\n",
      "MoviePy - Writing audio in %s\n"
     ]
    },
    {
     "name": "stderr",
     "output_type": "stream",
     "text": [
      "                                                                                                                       \r"
     ]
    },
    {
     "name": "stdout",
     "output_type": "stream",
     "text": [
      "MoviePy - Done.\n",
      "Processing clip: 101\n",
      "Text: <i>to a special place\n",
      "where food should be available</i>\n",
      "MoviePy - Writing audio in %s\n"
     ]
    },
    {
     "name": "stderr",
     "output_type": "stream",
     "text": [
      "                                                                                                                       \r"
     ]
    },
    {
     "name": "stdout",
     "output_type": "stream",
     "text": [
      "MoviePy - Done.\n",
      "Processing clip: 102\n",
      "Text: <i>even in a drought.</i>\n",
      "MoviePy - Writing audio in %s\n"
     ]
    },
    {
     "name": "stderr",
     "output_type": "stream",
     "text": [
      "                                                                                                                       \r"
     ]
    },
    {
     "name": "stdout",
     "output_type": "stream",
     "text": [
      "MoviePy - Done.\n",
      "Processing clip: 103\n",
      "Text: <i>She learned of its existence\n",
      "from her mother,</i>\n",
      "MoviePy - Writing audio in %s\n"
     ]
    },
    {
     "name": "stderr",
     "output_type": "stream",
     "text": [
      "                                                                                                                       \r"
     ]
    },
    {
     "name": "stdout",
     "output_type": "stream",
     "text": [
      "MoviePy - Done.\n",
      "Processing clip: 104\n",
      "Text: <i>many years ago.</i>\n",
      "MoviePy - Writing audio in %s\n"
     ]
    },
    {
     "name": "stderr",
     "output_type": "stream",
     "text": [
      "                                                                                                                       \r"
     ]
    },
    {
     "name": "stdout",
     "output_type": "stream",
     "text": [
      "MoviePy - Done.\n",
      "Processing clip: 105\n",
      "Text: <i>Now, she's teaching her own calf\n",
      "how to get there.</i>\n",
      "MoviePy - Writing audio in %s\n"
     ]
    },
    {
     "name": "stderr",
     "output_type": "stream",
     "text": [
      "                                                                                                                       \r"
     ]
    },
    {
     "name": "stdout",
     "output_type": "stream",
     "text": [
      "MoviePy - Done.\n",
      "Processing clip: 106\n",
      "Text: <i>The elephants are not alone\n",
      "in their search for food.</i>\n",
      "MoviePy - Writing audio in %s\n"
     ]
    },
    {
     "name": "stderr",
     "output_type": "stream",
     "text": [
      "                                                                                                                       \r"
     ]
    },
    {
     "name": "stdout",
     "output_type": "stream",
     "text": [
      "MoviePy - Done.\n",
      "Processing clip: 107\n",
      "Text: <i>Desert lions.</i>\n",
      "MoviePy - Writing audio in %s\n"
     ]
    },
    {
     "name": "stderr",
     "output_type": "stream",
     "text": [
      "                                                                                                                       \r"
     ]
    },
    {
     "name": "stdout",
     "output_type": "stream",
     "text": [
      "MoviePy - Done.\n",
      "Processing clip: 108\n",
      "Text: <i>They are just as rare as the elephants.</i>\n",
      "MoviePy - Writing audio in %s\n"
     ]
    },
    {
     "name": "stderr",
     "output_type": "stream",
     "text": [
      "                                                                                                                       \r"
     ]
    },
    {
     "name": "stdout",
     "output_type": "stream",
     "text": [
      "MoviePy - Done.\n",
      "Processing clip: 109\n",
      "Text: <i>The calf is protected by its mother.</i>\n",
      "MoviePy - Writing audio in %s\n"
     ]
    },
    {
     "name": "stderr",
     "output_type": "stream",
     "text": [
      "                                                                                                                       \r"
     ]
    },
    {
     "name": "stdout",
     "output_type": "stream",
     "text": [
      "MoviePy - Done.\n",
      "Processing clip: 110\n",
      "Text: <i>So the lions let them pass.</i>\n",
      "MoviePy - Writing audio in %s\n"
     ]
    },
    {
     "name": "stderr",
     "output_type": "stream",
     "text": [
      "                                                                                                                       \r"
     ]
    },
    {
     "name": "stdout",
     "output_type": "stream",
     "text": [
      "MoviePy - Done.\n",
      "Processing clip: 111\n",
      "Text: <i>Distant trees are a sign of water.</i>\n",
      "MoviePy - Writing audio in %s\n"
     ]
    },
    {
     "name": "stderr",
     "output_type": "stream",
     "text": [
      "                                                                                                                       \r"
     ]
    },
    {
     "name": "stdout",
     "output_type": "stream",
     "text": [
      "MoviePy - Done.\n",
      "Processing clip: 112\n",
      "Text: <i>The riverbed is dry.</i>\n",
      "MoviePy - Writing audio in %s\n"
     ]
    },
    {
     "name": "stderr",
     "output_type": "stream",
     "text": [
      "                                                                                                                       \r"
     ]
    },
    {
     "name": "stdout",
     "output_type": "stream",
     "text": [
      "MoviePy - Done.\n",
      "Processing clip: 113\n",
      "Text: <i>The ana trees, however, are still green.</i>\n",
      "MoviePy - Writing audio in %s\n"
     ]
    },
    {
     "name": "stderr",
     "output_type": "stream",
     "text": [
      "                                                                                                                       \r"
     ]
    },
    {
     "name": "stdout",
     "output_type": "stream",
     "text": [
      "MoviePy - Done.\n",
      "Processing clip: 114\n",
      "Text: <i>But there is a problem.</i>\n",
      "MoviePy - Writing audio in %s\n"
     ]
    },
    {
     "name": "stderr",
     "output_type": "stream",
     "text": [
      "                                                                                                                       \r"
     ]
    },
    {
     "name": "stdout",
     "output_type": "stream",
     "text": [
      "MoviePy - Done.\n",
      "Processing clip: 115\n",
      "Text: <i>At this time of year,</i>\n",
      "MoviePy - Writing audio in %s\n"
     ]
    },
    {
     "name": "stderr",
     "output_type": "stream",
     "text": [
      "                                                                                                                       \r"
     ]
    },
    {
     "name": "stdout",
     "output_type": "stream",
     "text": [
      "MoviePy - Done.\n",
      "Processing clip: 116\n",
      "Text: <i>seedpods from the ana trees\n",
      "usually litter the ground.</i>\n",
      "MoviePy - Writing audio in %s\n"
     ]
    },
    {
     "name": "stderr",
     "output_type": "stream",
     "text": [
      "                                                                                                                       \r"
     ]
    },
    {
     "name": "stdout",
     "output_type": "stream",
     "text": [
      "MoviePy - Done.\n",
      "Processing clip: 117\n",
      "Text: <i>Rich food for elephants.</i>\n",
      "MoviePy - Writing audio in %s\n"
     ]
    },
    {
     "name": "stderr",
     "output_type": "stream",
     "text": [
      "                                                                                                                       \r"
     ]
    },
    {
     "name": "stdout",
     "output_type": "stream",
     "text": [
      "MoviePy - Done.\n",
      "Processing clip: 118\n",
      "Text: <i>But this year, the crop has failed.</i>\n",
      "MoviePy - Writing audio in %s\n"
     ]
    },
    {
     "name": "stderr",
     "output_type": "stream",
     "text": [
      "                                                                                                                       \r"
     ]
    },
    {
     "name": "stdout",
     "output_type": "stream",
     "text": [
      "MoviePy - Done.\n",
      "Processing clip: 119\n",
      "Text: <i>The matriarch\n",
      "has led her herd here for nothing.</i>\n",
      "MoviePy - Writing audio in %s\n"
     ]
    },
    {
     "name": "stderr",
     "output_type": "stream",
     "text": [
      "                                                                                                                       \r"
     ]
    },
    {
     "name": "stdout",
     "output_type": "stream",
     "text": [
      "MoviePy - Done.\n",
      "Processing clip: 120\n",
      "Text: <i>Even the trees' leafy branches\n",
      "are out of their reach.</i>\n",
      "MoviePy - Writing audio in %s\n"
     ]
    },
    {
     "name": "stderr",
     "output_type": "stream",
     "text": [
      "                                                                                                                       \r"
     ]
    },
    {
     "name": "stdout",
     "output_type": "stream",
     "text": [
      "MoviePy - Done.\n",
      "Processing clip: 121\n",
      "Text: <i>The family has no option but to move on.</i>\n",
      "MoviePy - Writing audio in %s\n"
     ]
    },
    {
     "name": "stderr",
     "output_type": "stream",
     "text": [
      "                                                                                                                       \r"
     ]
    },
    {
     "name": "stdout",
     "output_type": "stream",
     "text": [
      "MoviePy - Done.\n",
      "Processing clip: 122\n",
      "Text: <i>A bull, standing nearly four meters tall.</i>\n",
      "MoviePy - Writing audio in %s\n"
     ]
    },
    {
     "name": "stderr",
     "output_type": "stream",
     "text": [
      "                                                                                                                       \r"
     ]
    },
    {
     "name": "stdout",
     "output_type": "stream",
     "text": [
      "MoviePy - Done.\n",
      "Processing clip: 123\n",
      "Text: <i>He can reach into the canopy,</i>\n",
      "MoviePy - Writing audio in %s\n"
     ]
    },
    {
     "name": "stderr",
     "output_type": "stream",
     "text": [
      "                                                                                                                       \r"
     ]
    },
    {
     "name": "stdout",
     "output_type": "stream",
     "text": [
      "MoviePy - Done.\n",
      "Processing clip: 124\n",
      "Text: <i>and he could be the solution\n",
      "to their problem.</i>\n",
      "MoviePy - Writing audio in %s\n"
     ]
    },
    {
     "name": "stderr",
     "output_type": "stream",
     "text": [
      "                                                                                                                       \r"
     ]
    },
    {
     "name": "stdout",
     "output_type": "stream",
     "text": [
      "MoviePy - Done.\n",
      "Processing clip: 125\n",
      "Text: <i>The old female has known him all her life\n",
      "and turned to him for help before.</i>\n",
      "MoviePy - Writing audio in %s\n"
     ]
    },
    {
     "name": "stderr",
     "output_type": "stream",
     "text": [
      "                                                                                                                       \r"
     ]
    },
    {
     "name": "stdout",
     "output_type": "stream",
     "text": [
      "MoviePy - Done.\n",
      "Processing clip: 126\n",
      "Text: <i>Elephants can only survive here</i>\n",
      "MoviePy - Writing audio in %s\n"
     ]
    },
    {
     "name": "stderr",
     "output_type": "stream",
     "text": [
      "                                                                                                                       \r"
     ]
    },
    {
     "name": "stdout",
     "output_type": "stream",
     "text": [
      "MoviePy - Done.\n",
      "Processing clip: 127\n",
      "Text: <i>because of knowledge\n",
      "passed down over generations.</i>\n",
      "MoviePy - Writing audio in %s\n"
     ]
    },
    {
     "name": "stderr",
     "output_type": "stream",
     "text": [
      "                                                                                                                       \r"
     ]
    },
    {
     "name": "stdout",
     "output_type": "stream",
     "text": [
      "MoviePy - Done.\n",
      "Processing clip: 128\n",
      "Text: <i>But less than 20 matriarchs still survive,</i>\n",
      "MoviePy - Writing audio in %s\n"
     ]
    },
    {
     "name": "stderr",
     "output_type": "stream",
     "text": [
      "                                                                                                                       \r"
     ]
    },
    {
     "name": "stdout",
     "output_type": "stream",
     "text": [
      "MoviePy - Done.\n",
      "Processing clip: 129\n",
      "Text: <i>and if their knowledge is lost,</i>\n",
      "MoviePy - Writing audio in %s\n"
     ]
    },
    {
     "name": "stderr",
     "output_type": "stream",
     "text": [
      "                                                                                                                       \r"
     ]
    },
    {
     "name": "stdout",
     "output_type": "stream",
     "text": [
      "MoviePy - Done.\n",
      "Processing clip: 130\n",
      "Text: <i>elephants may no longer\n",
      "be able to live here.</i>\n",
      "MoviePy - Writing audio in %s\n"
     ]
    },
    {
     "name": "stderr",
     "output_type": "stream",
     "text": [
      "                                                                                                                       \r"
     ]
    },
    {
     "name": "stdout",
     "output_type": "stream",
     "text": [
      "MoviePy - Done.\n",
      "Processing clip: 131\n",
      "Text: <i>Deserts cannot support\n",
      "large numbers of animals the year round,</i>\n",
      "MoviePy - Writing audio in %s\n"
     ]
    },
    {
     "name": "stderr",
     "output_type": "stream",
     "text": [
      "                                                                                                                       \r"
     ]
    },
    {
     "name": "stdout",
     "output_type": "stream",
     "text": [
      "MoviePy - Done.\n",
      "Processing clip: 132\n",
      "Text: <i>and even those specially adapted\n",
      "to these conditions</i>\n",
      "MoviePy - Writing audio in %s\n"
     ]
    },
    {
     "name": "stderr",
     "output_type": "stream",
     "text": [
      "                                                                                                                       \r"
     ]
    },
    {
     "name": "stdout",
     "output_type": "stream",
     "text": [
      "MoviePy - Done.\n",
      "Processing clip: 133\n",
      "Text: <i>can only survive in small numbers.</i>\n",
      "MoviePy - Writing audio in %s\n"
     ]
    },
    {
     "name": "stderr",
     "output_type": "stream",
     "text": [
      "                                                                                                                       \r"
     ]
    },
    {
     "name": "stdout",
     "output_type": "stream",
     "text": [
      "MoviePy - Done.\n",
      "Processing clip: 134\n",
      "Text: <i>But on very special occasions,</i>\n",
      "MoviePy - Writing audio in %s\n"
     ]
    },
    {
     "name": "stderr",
     "output_type": "stream",
     "text": [
      "                                                                                                                       \r"
     ]
    },
    {
     "name": "stdout",
     "output_type": "stream",
     "text": [
      "MoviePy - Done.\n",
      "Processing clip: 135\n",
      "Text: <i>deserts are transformed.</i>\n",
      "MoviePy - Writing audio in %s\n"
     ]
    },
    {
     "name": "stderr",
     "output_type": "stream",
     "text": [
      "                                                                                                                       \r"
     ]
    },
    {
     "name": "stdout",
     "output_type": "stream",
     "text": [
      "MoviePy - Done.\n",
      "Processing clip: 136\n",
      "Text: <i>Once in a decade,</i>\n",
      "MoviePy - Writing audio in %s\n"
     ]
    },
    {
     "name": "stderr",
     "output_type": "stream",
     "text": [
      "                                                                                                                       \r"
     ]
    },
    {
     "name": "stdout",
     "output_type": "stream",
     "text": [
      "MoviePy - Done.\n",
      "Processing clip: 137\n",
      "Text: <i>there may be a cloudburst.</i>\n",
      "MoviePy - Writing audio in %s\n"
     ]
    },
    {
     "name": "stderr",
     "output_type": "stream",
     "text": [
      "                                                                                                                       \r"
     ]
    },
    {
     "name": "stdout",
     "output_type": "stream",
     "text": [
      "MoviePy - Done.\n",
      "Processing clip: 138\n",
      "Text: <i>A single one can turn the desert green.</i>\n",
      "MoviePy - Writing audio in %s\n"
     ]
    },
    {
     "name": "stderr",
     "output_type": "stream",
     "text": [
      "                                                                                                                       \r"
     ]
    },
    {
     "name": "stdout",
     "output_type": "stream",
     "text": [
      "MoviePy - Done.\n",
      "Processing clip: 139\n",
      "Text: <i>In southern California,</i>\n",
      "MoviePy - Writing audio in %s\n"
     ]
    },
    {
     "name": "stderr",
     "output_type": "stream",
     "text": [
      "                                                                                                                       \r"
     ]
    },
    {
     "name": "stdout",
     "output_type": "stream",
     "text": [
      "MoviePy - Done.\n",
      "Processing clip: 140\n",
      "Text: <i>the change is visible from space.</i>\n",
      "MoviePy - Writing audio in %s\n"
     ]
    },
    {
     "name": "stderr",
     "output_type": "stream",
     "text": [
      "                                                                                                                       \r"
     ]
    },
    {
     "name": "stdout",
     "output_type": "stream",
     "text": [
      "MoviePy - Done.\n",
      "Processing clip: 141\n",
      "Text: <i>Hundreds of square kilometers\n",
      "suddenly bloom.</i>\n",
      "MoviePy - Writing audio in %s\n"
     ]
    },
    {
     "name": "stderr",
     "output_type": "stream",
     "text": [
      "                                                                                                                       \r"
     ]
    },
    {
     "name": "stdout",
     "output_type": "stream",
     "text": [
      "MoviePy - Done.\n",
      "Processing clip: 142\n",
      "Text: <i>If such transformations become regular,</i>\n",
      "MoviePy - Writing audio in %s\n"
     ]
    },
    {
     "name": "stderr",
     "output_type": "stream",
     "text": [
      "                                                                                                                       \r"
     ]
    },
    {
     "name": "stdout",
     "output_type": "stream",
     "text": [
      "MoviePy - Done.\n",
      "Processing clip: 143\n",
      "Text: <i>a new habitat may develop.</i>\n",
      "MoviePy - Writing audio in %s\n"
     ]
    },
    {
     "name": "stderr",
     "output_type": "stream",
     "text": [
      "                                                                                                                       \r"
     ]
    },
    {
     "name": "stdout",
     "output_type": "stream",
     "text": [
      "MoviePy - Done.\n",
      "Processing clip: 144\n",
      "Text: <i>Grasslands.</i>\n",
      "MoviePy - Writing audio in %s\n"
     ]
    },
    {
     "name": "stderr",
     "output_type": "stream",
     "text": [
      "                                                                                                                       \r"
     ]
    },
    {
     "name": "stdout",
     "output_type": "stream",
     "text": [
      "MoviePy - Done.\n",
      "Processing clip: 145\n",
      "Text: <i>One of our planet's\n",
      "most productive landscapes.</i>\n",
      "MoviePy - Writing audio in %s\n"
     ]
    },
    {
     "name": "stderr",
     "output_type": "stream",
     "text": [
      "                                                                                                                       \r"
     ]
    },
    {
     "name": "stdout",
     "output_type": "stream",
     "text": [
      "MoviePy - Done.\n",
      "Processing clip: 146\n",
      "Text: <i>They support the greatest aggregations\n",
      "of large animals on Earth.</i>\n",
      "MoviePy - Writing audio in %s\n"
     ]
    },
    {
     "name": "stderr",
     "output_type": "stream",
     "text": [
      "                                                                                                                       \r"
     ]
    },
    {
     "name": "stdout",
     "output_type": "stream",
     "text": [
      "MoviePy - Done.\n",
      "Processing clip: 147\n",
      "Text: <i>The Serengeti sustains herds\n",
      "of over a million wildebeest.</i>\n",
      "MoviePy - Writing audio in %s\n"
     ]
    },
    {
     "name": "stderr",
     "output_type": "stream",
     "text": [
      "                                                                                                                       \r"
     ]
    },
    {
     "name": "stdout",
     "output_type": "stream",
     "text": [
      "MoviePy - Done.\n",
      "Processing clip: 148\n",
      "Text: <i>They follow the rains\n",
      "to crop the newly sprung grass.</i>\n",
      "MoviePy - Writing audio in %s\n"
     ]
    },
    {
     "name": "stderr",
     "output_type": "stream",
     "text": [
      "                                                                                                                       \r"
     ]
    },
    {
     "name": "stdout",
     "output_type": "stream",
     "text": [
      "MoviePy - Done.\n",
      "Processing clip: 149\n",
      "Text: <i>These vast herds attract predators.</i>\n",
      "MoviePy - Writing audio in %s\n"
     ]
    },
    {
     "name": "stderr",
     "output_type": "stream",
     "text": [
      "                                                                                                                       \r"
     ]
    },
    {
     "name": "stdout",
     "output_type": "stream",
     "text": [
      "MoviePy - Done.\n",
      "Processing clip: 150\n",
      "Text: <i>Five male cheetahs.</i>\n",
      "MoviePy - Writing audio in %s\n"
     ]
    },
    {
     "name": "stderr",
     "output_type": "stream",
     "text": [
      "                                                                                                                       \r"
     ]
    },
    {
     "name": "stdout",
     "output_type": "stream",
     "text": [
      "MoviePy - Done.\n",
      "Processing clip: 151\n",
      "Text: <i>One of the largest coalitions\n",
      "ever observed.</i>\n",
      "MoviePy - Writing audio in %s\n"
     ]
    },
    {
     "name": "stderr",
     "output_type": "stream",
     "text": [
      "                                                                                                                       \r"
     ]
    },
    {
     "name": "stdout",
     "output_type": "stream",
     "text": [
      "MoviePy - Done.\n",
      "Processing clip: 152\n",
      "Text: <i>They dominate a territory\n",
      "of 450 square kilometers.</i>\n",
      "MoviePy - Writing audio in %s\n"
     ]
    },
    {
     "name": "stderr",
     "output_type": "stream",
     "text": [
      "                                                                                                                       \r"
     ]
    },
    {
     "name": "stdout",
     "output_type": "stream",
     "text": [
      "MoviePy - Done.\n",
      "Processing clip: 153\n",
      "Text: <i>They patrol it together,</i>\n",
      "MoviePy - Writing audio in %s\n"
     ]
    },
    {
     "name": "stderr",
     "output_type": "stream",
     "text": [
      "                                                                                                                       \r"
     ]
    },
    {
     "name": "stdout",
     "output_type": "stream",
     "text": [
      "MoviePy - Done.\n",
      "Processing clip: 154\n",
      "Text: <i>and that attracts attention.</i>\n",
      "MoviePy - Writing audio in %s\n"
     ]
    },
    {
     "name": "stderr",
     "output_type": "stream",
     "text": [
      "                                                                                                                       \r"
     ]
    },
    {
     "name": "stdout",
     "output_type": "stream",
     "text": [
      "MoviePy - Done.\n",
      "Processing clip: 155\n",
      "Text: <i>A change of strategy is needed</i>\n",
      "MoviePy - Writing audio in %s\n"
     ]
    },
    {
     "name": "stderr",
     "output_type": "stream",
     "text": [
      "                                                                                                                       \r"
     ]
    },
    {
     "name": "stdout",
     "output_type": "stream",
     "text": [
      "MoviePy - Done.\n",
      "Processing clip: 156\n",
      "Text: <i>if they're to hunt successfully.</i>\n",
      "MoviePy - Writing audio in %s\n"
     ]
    },
    {
     "name": "stderr",
     "output_type": "stream",
     "text": [
      "                                                                                                                       \r"
     ]
    },
    {
     "name": "stdout",
     "output_type": "stream",
     "text": [
      "MoviePy - Done.\n",
      "Processing clip: 157\n",
      "Text: <i>They need cover.</i>\n",
      "MoviePy - Writing audio in %s\n"
     ]
    },
    {
     "name": "stderr",
     "output_type": "stream",
     "text": [
      "                                                                                                                       \r"
     ]
    },
    {
     "name": "stdout",
     "output_type": "stream",
     "text": [
      "MoviePy - Done.\n",
      "Processing clip: 158\n",
      "Text: <i>An adult wildebeest\n",
      "is a formidable opponent.</i>\n",
      "MoviePy - Writing audio in %s\n"
     ]
    },
    {
     "name": "stderr",
     "output_type": "stream",
     "text": [
      "                                                                                                                       \r"
     ]
    },
    {
     "name": "stdout",
     "output_type": "stream",
     "text": [
      "MoviePy - Done.\n",
      "Processing clip: 159\n",
      "Text: <i>Four of the cheetahs start the stalk,</i>\n",
      "MoviePy - Writing audio in %s\n"
     ]
    },
    {
     "name": "stderr",
     "output_type": "stream",
     "text": [
      "                                                                                                                       \r"
     ]
    },
    {
     "name": "stdout",
     "output_type": "stream",
     "text": [
      "MoviePy - Done.\n",
      "Processing clip: 160\n",
      "Text: <i>walking directly towards the prey.</i>\n",
      "MoviePy - Writing audio in %s\n"
     ]
    },
    {
     "name": "stderr",
     "output_type": "stream",
     "text": [
      "                                                                                                                       \r"
     ]
    },
    {
     "name": "stdout",
     "output_type": "stream",
     "text": [
      "MoviePy - Done.\n",
      "Processing clip: 161\n",
      "Text: <i>The fifth creeps around the side.</i>\n",
      "MoviePy - Writing audio in %s\n"
     ]
    },
    {
     "name": "stderr",
     "output_type": "stream",
     "text": [
      "                                                                                                                       \r"
     ]
    },
    {
     "name": "stdout",
     "output_type": "stream",
     "text": [
      "MoviePy - Done.\n",
      "Processing clip: 162\n",
      "Text: <i>They need to get really close\n",
      "before making their final sprint.</i>\n",
      "MoviePy - Writing audio in %s\n"
     ]
    },
    {
     "name": "stderr",
     "output_type": "stream",
     "text": [
      "                                                                                                                       \r"
     ]
    },
    {
     "name": "stdout",
     "output_type": "stream",
     "text": [
      "MoviePy - Done.\n",
      "Processing clip: 163\n",
      "Text: <i>They're nearly there.</i>\n",
      "MoviePy - Writing audio in %s\n"
     ]
    },
    {
     "name": "stderr",
     "output_type": "stream",
     "text": [
      "                                                                                                                       \r"
     ]
    },
    {
     "name": "stdout",
     "output_type": "stream",
     "text": [
      "MoviePy - Done.\n",
      "Processing clip: 164\n",
      "Text: <i>All five break cover,</i>\n",
      "MoviePy - Writing audio in %s\n"
     ]
    },
    {
     "name": "stderr",
     "output_type": "stream",
     "text": [
      "\r",
      "chunk:   0%|                                                                          | 0/46 [00:00<?, ?it/s, now=None]"
     ]
    }
   ],
   "source": [
    "ac = AudioFileClip('OPS01E0'+episode+'.wav')\n",
    "\n",
    "for i in range(len(subtitles)):\n",
    "    print('Processing clip:', i+1)\n",
    "    print('Text:', subtitles[i].content)\n",
    "    \n",
    "    start = subtitles[i].start.seconds + subtitles[i].start.microseconds/10**6 - 0.1\n",
    "    end = subtitles[i].end.seconds + subtitles[i].end.microseconds/10**6 + 0.25\n",
    "    sub_index = subtitles[i].index\n",
    "\n",
    "    clip = ac.subclip(start, end)\n",
    "    clip.write_audiofile('OPS01E0'+episode+'/clip_'+str(sub_index)+'.wav', codec='pcm_s16le')\n",
    "\n",
    "print('DONE.')"
   ]
  },
  {
   "cell_type": "code",
   "execution_count": null,
   "metadata": {},
   "outputs": [],
   "source": [
    "subtitles[:5]"
   ]
  },
  {
   "cell_type": "code",
   "execution_count": 5,
   "metadata": {},
   "outputs": [
    {
     "name": "stdout",
     "output_type": "stream",
     "text": [
      "0:00:20.645000\n",
      "Just 50 years ago,\n",
      "0:00:22.772000\n",
      "0\n",
      "0:00:23.440000\n",
      "we finally ventured to the moon.\n",
      "0:00:26.276000\n",
      "1\n",
      "0:00:40.331000\n",
      "For the very first time,\n",
      "we looked back at our own planet.\n",
      "0:00:45.795000\n",
      "2\n",
      "0:00:53.386000\n",
      "Since then, the human population\n",
      "has more than doubled.\n",
      "0:00:58.683000\n",
      "3\n",
      "0:01:04.230000\n",
      "This series will celebrate\n",
      "the natural wonders that remain\n",
      "0:01:08.651000\n",
      "4\n",
      "0:01:09.569000\n",
      "and reveal what we must preserve\n",
      "0:01:12.280000\n",
      "5\n",
      "0:01:12.655000\n",
      "to ensure people and nature thrive.\n",
      "0:01:16.868000\n",
      "6\n",
      "0:01:30.673000\n",
      "The Earth still has sanctuaries,\n",
      "0:01:33.843000\n",
      "7\n",
      "0:01:35.553000\n",
      "and, on occasion, they hold\n",
      "spectacular gatherings of wildlife.\n",
      "0:01:40.892000\n",
      "8\n",
      "0:01:47.482000\n",
      "They provide vital space,\n",
      "but they're disappearing fast.\n",
      "0:01:52.362000\n",
      "9\n",
      "0:03:08.146000\n",
      "A fifth of the land\n",
      "on our planet is covered by desert.\n",
      "0:03:12.734000\n",
      "10\n",
      "0:03:19.115000\n",
      "The driest of all\n",
      "is the Atacama in South America.\n",
      "0:03:23.953000\n",
      "11\n",
      "0:03:27.540000\n",
      "There are places here\n",
      "where rain has never been recorded.\n",
      "0:03:31.502000\n",
      "12\n",
      "0:03:44.015000\n",
      "Deserts may appear to be barren and empty,\n",
      "0:03:47.894000\n",
      "13\n",
      "0:03:51.439000\n",
      "but they are of crucial importance\n",
      "to life.\n",
      "0:03:54.776000\n",
      "14\n",
      "0:04:11.042000\n",
      "For those that can overcome\n",
      "their challenges,\n",
      "0:04:13.670000\n",
      "15\n",
      "0:04:14.254000\n",
      "they provide a vital refuge.\n",
      "0:04:17.215000\n",
      "16\n",
      "0:04:32.188000\n",
      "Socotran cormorants,\n",
      "0:04:34.023000\n",
      "17\n",
      "0:04:34.774000\n",
      "emerging from a dust storm\n",
      "in the Arabian desert.\n",
      "0:04:38.903000\n",
      "18\n",
      "0:04:46.661000\n",
      "It is the very emptiness of this landscape\n",
      "that has brought them here,\n",
      "0:04:52\n",
      "19\n",
      "0:04:55.837000\n",
      "and they have come in immense numbers.\n",
      "0:04:59.299000\n",
      "20\n",
      "0:05:06.055000\n",
      "Fifty thousand of them.\n",
      "0:05:07.932000\n",
      "21\n",
      "0:05:13.563000\n",
      "A quarter of the total population.\n",
      "0:05:16.149000\n",
      "22\n",
      "0:05:24.157000\n",
      "They have come\n",
      "because here they can breed...\n",
      "0:05:27.368000\n",
      "23\n",
      "0:05:28.578000\n",
      "undisturbed.\n",
      "0:05:29.954000\n",
      "24\n",
      "0:05:45.219000\n",
      "But nesting in a desert is difficult.\n",
      "0:05:48.181000\n",
      "25\n",
      "0:05:50.433000\n",
      "Temperatures can reach 40 degrees Celsius.\n",
      "0:05:53.936000\n",
      "26\n",
      "0:05:56.314000\n",
      "Yet, both the adults\n",
      "and their white chicks\n",
      "0:05:59.192000\n",
      "27\n",
      "0:05:59.275000\n",
      "are ready for this challenge.\n",
      "0:06:01.194000\n",
      "28\n",
      "0:06:05.740000\n",
      "They cool themselves\n",
      "by panting.\n",
      "0:06:08.201000\n",
      "29\n",
      "0:06:16.125000\n",
      "Any adult that appears to have food\n",
      "in its crop is mobbed.\n",
      "0:06:20.797000\n",
      "30\n",
      "0:06:24.342000\n",
      "An adult will only give food\n",
      "to its own chick,\n",
      "0:06:27.303000\n",
      "31\n",
      "0:06:29.597000\n",
      "which must be here somewhere.\n",
      "0:06:31.349000\n",
      "32\n",
      "0:06:43.820000\n",
      "The chicks chase an adult\n",
      "out into the desert.\n",
      "0:06:46.614000\n",
      "33\n",
      "0:06:54.497000\n",
      "No luck.\n",
      "0:06:55.497000\n",
      "34\n",
      "0:06:56.499000\n",
      "Now, they must get back quickly\n",
      "to the safety of the colony.\n",
      "0:07:00.294000\n",
      "35\n",
      "0:07:09.303000\n",
      "This desert provides the cormorants\n",
      "0:07:11.931000\n",
      "36\n",
      "0:07:12.014000\n",
      "with more than just a secure refuge.\n",
      "0:07:14.934000\n",
      "37\n",
      "0:07:31.325000\n",
      "Every morning, a mass movement begins.\n",
      "0:07:34.996000\n",
      "38\n",
      "0:07:47.675000\n",
      "It's the rush hour.\n",
      "0:07:49.177000\n",
      "39\n",
      "0:08:14.327000\n",
      "A shallow arm of the sea,\n",
      "right beside the colony,\n",
      "0:08:17.997000\n",
      "40\n",
      "0:08:18.331000\n",
      "is full of food.\n",
      "0:08:20.082000\n",
      "41\n",
      "0:08:23.419000\n",
      "This richness comes\n",
      "from the desert itself.\n",
      "0:08:27.215000\n",
      "42\n",
      "0:08:28.591000\n",
      "Dust, blown from the land,\n",
      "0:08:30.551000\n",
      "43\n",
      "0:08:30.760000\n",
      "contains nutrients\n",
      "that fertilize the surrounding waters.\n",
      "0:08:35.181000\n",
      "44\n",
      "0:08:44.607000\n",
      "So, it is the desert itself\n",
      "that enriches the sea.\n",
      "0:08:49.570000\n",
      "45\n",
      "0:09:16.472000\n",
      "In Oman, during the summer monsoon,\n",
      "fogs roll in from the sea,\n",
      "0:09:22.520000\n",
      "46\n",
      "0:09:23.521000\n",
      "billowing over the Dhofar mountains.\n",
      "0:09:26.107000\n",
      "47\n",
      "0:09:34.574000\n",
      "The mists bring just enough moisture\n",
      "to sustain a little vegetation...\n",
      "0:09:39.579000\n",
      "48\n",
      "0:09:47.086000\n",
      "and this sparse greenery\n",
      "becomes a focus for life.\n",
      "0:09:51.882000\n",
      "49\n",
      "0:09:59.557000\n",
      "Ibex must cross the near vertical cliffs\n",
      "to reach one of the few springs.\n",
      "0:10:06.105000\n",
      "50\n",
      "0:10:09.775000\n",
      "But they're nervous...\n",
      "0:10:10.985000\n",
      "51\n",
      "0:10:13.029000\n",
      "and with good reason.\n",
      "0:10:14.572000\n",
      "52\n",
      "0:10:22.455000\n",
      "An Arabian leopard,\n",
      "0:10:24.498000\n",
      "53\n",
      "0:10:25.833000\n",
      "one of less than 200\n",
      "that survive in the wild.\n",
      "0:10:29.879000\n",
      "54\n",
      "0:10:33.507000\n",
      "This male's territory\n",
      "0:10:35.217000\n",
      "55\n",
      "0:10:35.301000\n",
      "extends over 350 square kilometers\n",
      "of high mountains and deep wadis.\n",
      "0:10:42.266000\n",
      "56\n",
      "0:10:51.734000\n",
      "The southern edge\n",
      "of the Arabian Peninsula\n",
      "0:10:54.403000\n",
      "57\n",
      "0:10:54.904000\n",
      "is one of the few places left\n",
      "where there is enough prey\n",
      "0:10:58.407000\n",
      "58\n",
      "0:10:58.866000\n",
      "to sustain a population of these leopards.\n",
      "0:11:02.036000\n",
      "59\n",
      "0:11:07.750000\n",
      "But even so, there are probably\n",
      "less than 60 individuals\n",
      "0:11:12.380000\n",
      "60\n",
      "0:11:13.047000\n",
      "in over 15,000 square kilometers.\n",
      "0:11:16.175000\n",
      "61\n",
      "0:11:23.516000\n",
      "These leopards have always been rare,\n",
      "0:11:26.560000\n",
      "62\n",
      "0:11:29.980000\n",
      "but now conflict with people\n",
      "0:11:32.024000\n",
      "63\n",
      "0:11:32.400000\n",
      "is causing their numbers\n",
      "to decline still further.\n",
      "0:11:35.695000\n",
      "64\n",
      "0:11:49.834000\n",
      "Few leopards are left,\n",
      "0:11:51.502000\n",
      "65\n",
      "0:11:52.628000\n",
      "so what our hidden cameras now capture\n",
      "verges on the miraculous.\n",
      "0:11:58.050000\n",
      "66\n",
      "0:12:05.474000\n",
      "A female leopard,\n",
      "0:12:06.892000\n",
      "67\n",
      "0:12:08.811000\n",
      "and she is tracking a male.\n",
      "0:12:11.188000\n",
      "68\n",
      "0:12:26.787000\n",
      "Such meetings\n",
      "are becoming increasingly rare.\n",
      "0:12:30.374000\n",
      "69\n",
      "0:12:55.608000\n",
      "This briefest of unions\n",
      "0:12:57.902000\n",
      "70\n",
      "0:12:58.360000\n",
      "may ensure\n",
      "the short-term future for these leopards.\n",
      "0:13:02.531000\n",
      "71\n",
      "0:13:08.454000\n",
      "But in the longer term,\n",
      "0:13:09.955000\n",
      "72\n",
      "0:13:10.915000\n",
      "their fate will depend\n",
      "on their territory being protected.\n",
      "0:13:14.293000\n",
      "73\n",
      "0:13:22.051000\n",
      "To the north of the Dhofar mountains\n",
      "0:13:24.261000\n",
      "74\n",
      "0:13:24.970000\n",
      "lies a place\n",
      "of almost unimaginable emptiness.\n",
      "0:13:29.058000\n",
      "75\n",
      "0:13:30.851000\n",
      "The Rub' al Khali,\n",
      "0:13:32.186000\n",
      "76\n",
      "0:13:34.188000\n",
      "the Empty Quarter.\n",
      "0:13:35.481000\n",
      "77\n",
      "0:13:45.074000\n",
      "The very name of the place\n",
      "0:13:46.784000\n",
      "78\n",
      "0:13:47.493000\n",
      "resonates with the romance\n",
      "of these desert lands.\n",
      "0:13:51.288000\n",
      "79\n",
      "0:13:59.338000\n",
      "This is the largest sand sea\n",
      "in the world.\n",
      "0:14:03.342000\n",
      "80\n",
      "0:14:07.513000\n",
      "There are parts\n",
      "where human beings never venture.\n",
      "0:14:11.767000\n",
      "81\n",
      "0:14:16.897000\n",
      "Only the greatest desert specialists\n",
      "can survive here.\n",
      "0:14:21.068000\n",
      "82\n",
      "0:14:27.741000\n",
      "Arabian oryx.\n",
      "0:14:29.535000\n",
      "83\n",
      "0:14:33.998000\n",
      "Their ranges are vast,\n",
      "0:14:35.666000\n",
      "84\n",
      "0:14:36.458000\n",
      "extending\n",
      "for over 3,000 square kilometers.\n",
      "0:14:39.879000\n",
      "85\n",
      "0:14:43.924000\n",
      "This is one of their last refuges.\n",
      "0:14:47.261000\n",
      "86\n",
      "0:14:52.266000\n",
      "Once hunted close to extinction,\n",
      "0:14:54.518000\n",
      "87\n",
      "0:14:55.269000\n",
      "they have now reclaimed\n",
      "their ancestral territory.\n",
      "0:14:58.564000\n",
      "88\n",
      "0:15:02.526000\n",
      "With the help of conservationists,\n",
      "they have returned home.\n",
      "0:15:07.156000\n",
      "89\n",
      "0:15:10.409000\n",
      "But reintroduction\n",
      "cannot save all desert animals.\n",
      "0:15:15.581000\n",
      "90\n",
      "0:15:28.218000\n",
      "Desert elephants.\n",
      "0:15:29.720000\n",
      "91\n",
      "0:15:34.642000\n",
      "Less than 150 survive, here in Namibia.\n",
      "0:15:38.812000\n",
      "92\n",
      "0:15:43.275000\n",
      "This oldest of deserts\n",
      "is scarred by dry riverbeds,\n",
      "0:15:48.197000\n",
      "93\n",
      "0:15:48.489000\n",
      "carved by water that flows\n",
      "for only one or two days in a year.\n",
      "0:15:53.577000\n",
      "94\n",
      "0:15:58.707000\n",
      "An adult elephant\n",
      "0:15:59.959000\n",
      "95\n",
      "0:16:00.167000\n",
      "must find up to 200 kilos of food\n",
      "each and every day if it's not to starve.\n",
      "0:16:06.340000\n",
      "96\n",
      "0:16:12.513000\n",
      "So, for these last survivors,\n",
      "life is an endless trek.\n",
      "0:16:17.726000\n",
      "97\n",
      "0:16:23.857000\n",
      "The herd is guided by a single old female,\n",
      "the matriarch.\n",
      "0:16:29.321000\n",
      "98\n",
      "0:16:32.324000\n",
      "She is leading her family\n",
      "0:16:34.243000\n",
      "99\n",
      "0:16:34.535000\n",
      "to a special place\n",
      "where food should be available\n",
      "0:16:38.080000\n",
      "100\n",
      "0:16:38.288000\n",
      "even in a drought.\n",
      "0:16:39.873000\n",
      "101\n",
      "0:16:46.463000\n",
      "She learned of its existence\n",
      "from her mother,\n",
      "0:16:49.383000\n",
      "102\n",
      "0:16:49.883000\n",
      "many years ago.\n",
      "0:16:51.093000\n",
      "103\n",
      "0:16:53.137000\n",
      "Now, she's teaching her own calf\n",
      "how to get there.\n",
      "0:16:57.099000\n",
      "104\n",
      "0:17:05.024000\n",
      "The elephants are not alone\n",
      "in their search for food.\n",
      "0:17:08.861000\n",
      "105\n",
      "0:17:14.825000\n",
      "Desert lions.\n",
      "0:17:16.076000\n",
      "106\n",
      "0:17:17.953000\n",
      "They are just as rare as the elephants.\n",
      "0:17:20.748000\n",
      "107\n",
      "0:17:30.215000\n",
      "The calf is protected by its mother.\n",
      "0:17:33.010000\n",
      "108\n",
      "0:17:40.768000\n",
      "So the lions let them pass.\n",
      "0:17:43.020000\n",
      "109\n",
      "0:17:48.776000\n",
      "Distant trees are a sign of water.\n"
     ]
    },
    {
     "name": "stdout",
     "output_type": "stream",
     "text": [
      "0:17:52.071000\n",
      "110\n",
      "0:18:15.969000\n",
      "The riverbed is dry.\n",
      "0:18:17.763000\n",
      "111\n",
      "0:18:23.143000\n",
      "The ana trees, however, are still green.\n",
      "0:18:26.688000\n",
      "112\n",
      "0:18:34.238000\n",
      "But there is a problem.\n",
      "0:18:35.405000\n",
      "113\n",
      "0:18:38.492000\n",
      "At this time of year,\n",
      "0:18:39.743000\n",
      "114\n",
      "0:18:39.868000\n",
      "seedpods from the ana trees\n",
      "usually litter the ground.\n",
      "0:18:43.997000\n",
      "115\n",
      "0:18:47.459000\n",
      "Rich food for elephants.\n",
      "0:18:49.461000\n",
      "116\n",
      "0:18:53.799000\n",
      "But this year, the crop has failed.\n",
      "0:18:57.094000\n",
      "117\n",
      "0:19:01.348000\n",
      "The matriarch\n",
      "has led her herd here for nothing.\n",
      "0:19:06.562000\n",
      "118\n",
      "0:19:15.320000\n",
      "Even the trees' leafy branches\n",
      "are out of their reach.\n",
      "0:19:18.824000\n",
      "119\n",
      "0:19:21.326000\n",
      "The family has no option but to move on.\n",
      "0:19:26.540000\n",
      "120\n",
      "0:19:45.100000\n",
      "A bull, standing nearly four meters tall.\n",
      "0:19:48.562000\n",
      "121\n",
      "0:19:50.606000\n",
      "He can reach into the canopy,\n",
      "0:19:52.983000\n",
      "122\n",
      "0:19:55.068000\n",
      "and he could be the solution\n",
      "to their problem.\n",
      "0:19:57.738000\n",
      "123\n",
      "0:20:02.117000\n",
      "The old female has known him all her life\n",
      "and turned to him for help before.\n",
      "0:20:07.581000\n",
      "124\n",
      "0:20:18.300000\n",
      "Elephants can only survive here\n",
      "0:20:20.594000\n",
      "125\n",
      "0:20:20.802000\n",
      "because of knowledge\n",
      "passed down over generations.\n",
      "0:20:24.056000\n",
      "126\n",
      "0:20:26.558000\n",
      "But less than 20 matriarchs still survive,\n",
      "0:20:29.811000\n",
      "127\n",
      "0:20:32.439000\n",
      "and if their knowledge is lost,\n",
      "0:20:34.191000\n",
      "128\n",
      "0:20:35.150000\n",
      "elephants may no longer\n",
      "be able to live here.\n",
      "0:20:38.528000\n",
      "129\n",
      "0:20:47.788000\n",
      "Deserts cannot support\n",
      "large numbers of animals the year round,\n",
      "0:20:52.793000\n",
      "130\n",
      "0:20:55.128000\n",
      "and even those specially adapted\n",
      "to these conditions\n",
      "0:20:58.090000\n",
      "131\n",
      "0:20:59.091000\n",
      "can only survive in small numbers.\n",
      "0:21:01.218000\n",
      "132\n",
      "0:21:04.304000\n",
      "But on very special occasions,\n",
      "0:21:06.306000\n",
      "133\n",
      "0:21:08.058000\n",
      "deserts are transformed.\n",
      "0:21:10.560000\n",
      "134\n",
      "0:21:17.776000\n",
      "Once in a decade,\n",
      "0:21:19.069000\n",
      "135\n",
      "0:21:20.821000\n",
      "there may be a cloudburst.\n",
      "0:21:22.489000\n",
      "136\n",
      "0:21:33.625000\n",
      "A single one can turn the desert green.\n",
      "0:21:36.753000\n",
      "137\n",
      "0:21:46.847000\n",
      "In southern California,\n",
      "0:21:48.265000\n",
      "138\n",
      "0:21:48.640000\n",
      "the change is visible from space.\n",
      "0:21:51.476000\n",
      "139\n",
      "0:22:03.363000\n",
      "Hundreds of square kilometers\n",
      "suddenly bloom.\n",
      "0:22:07.200000\n",
      "140\n",
      "0:22:24.843000\n",
      "If such transformations become regular,\n",
      "0:22:27.971000\n",
      "141\n",
      "0:22:28.722000\n",
      "a new habitat may develop.\n",
      "0:22:30.891000\n",
      "142\n",
      "0:22:33.852000\n",
      "Grasslands.\n",
      "0:22:35.062000\n",
      "143\n",
      "0:22:35.979000\n",
      "One of our planet's\n",
      "most productive landscapes.\n",
      "0:22:38.940000\n",
      "144\n",
      "0:22:45.822000\n",
      "They support the greatest aggregations\n",
      "of large animals on Earth.\n",
      "0:22:50.535000\n",
      "145\n",
      "0:22:53.663000\n",
      "The Serengeti sustains herds\n",
      "of over a million wildebeest.\n",
      "0:22:58.293000\n",
      "146\n",
      "0:23:03.382000\n",
      "They follow the rains\n",
      "to crop the newly sprung grass.\n",
      "0:23:07.636000\n",
      "147\n",
      "0:23:21.024000\n",
      "These vast herds attract predators.\n",
      "0:23:24.236000\n",
      "148\n",
      "0:23:37.040000\n",
      "Five male cheetahs.\n",
      "0:23:39.292000\n",
      "149\n",
      "0:23:40.252000\n",
      "One of the largest coalitions\n",
      "ever observed.\n",
      "0:23:43.713000\n",
      "150\n",
      "0:23:49.386000\n",
      "They dominate a territory\n",
      "of 450 square kilometers.\n",
      "0:23:54.599000\n",
      "151\n",
      "0:23:59.896000\n",
      "They patrol it together,\n",
      "0:24:01.690000\n",
      "152\n",
      "0:24:04.192000\n",
      "and that attracts attention.\n",
      "0:24:06.194000\n",
      "153\n",
      "0:24:55.994000\n",
      "A change of strategy is needed\n",
      "0:24:58.246000\n",
      "154\n",
      "0:24:59.331000\n",
      "if they're to hunt successfully.\n",
      "0:25:00.999000\n",
      "155\n",
      "0:25:10.967000\n",
      "They need cover.\n",
      "0:25:12.385000\n",
      "156\n",
      "0:25:44.751000\n",
      "An adult wildebeest\n",
      "is a formidable opponent.\n",
      "0:25:48.755000\n",
      "157\n",
      "0:26:05.480000\n",
      "Four of the cheetahs start the stalk,\n",
      "0:26:08.984000\n",
      "158\n",
      "0:26:09.985000\n",
      "walking directly towards the prey.\n",
      "0:26:12.320000\n",
      "159\n",
      "0:26:15.323000\n",
      "The fifth creeps around the side.\n",
      "0:26:18.785000\n",
      "160\n",
      "0:26:50.191000\n",
      "They need to get really close\n",
      "before making their final sprint.\n",
      "0:26:54.946000\n",
      "161\n",
      "0:27:07.292000\n",
      "They're nearly there.\n",
      "0:27:08.501000\n",
      "162\n",
      "0:27:44.162000\n",
      "All five break cover,\n",
      "0:27:45.872000\n",
      "163\n",
      "0:27:47.123000\n",
      "each cat chasing a different target.\n",
      "0:27:49.584000\n",
      "164\n",
      "0:28:05.266000\n",
      "It's chaos.\n",
      "0:28:06.309000\n",
      "165\n",
      "0:28:12.315000\n",
      "A single cheetah\n",
      "is not strong enough to defend its prize.\n",
      "0:28:16.528000\n",
      "166\n",
      "0:28:30.667000\n",
      "They must work together.\n",
      "0:28:32.460000\n",
      "167\n",
      "0:29:14.586000\n",
      "These dramas only continue\n",
      "because the Serengeti is protected,\n",
      "0:29:19.507000\n",
      "168\n",
      "0:29:20.341000\n",
      "and has been for over 65 years.\n",
      "0:29:23.636000\n",
      "169\n",
      "0:29:26.556000\n",
      "But the Serengeti is an exception.\n",
      "0:29:29.309000\n",
      "170\n",
      "0:29:31.311000\n",
      "Across the planet, space for grasslands\n",
      "has been steadily disappearing.\n",
      "0:29:37.901000\n",
      "171\n",
      "0:29:43.239000\n",
      "A hundred and eighty years ago,\n",
      "herds of bison, millions strong,\n",
      "0:29:48.203000\n",
      "172\n",
      "0:29:48.787000\n",
      "grazed the Great Plains\n",
      "of North America.\n",
      "0:29:51.581000\n",
      "173\n",
      "0:29:55.335000\n",
      "They roamed across a prairie\n",
      "a hundred times larger than the Serengeti.\n",
      "0:30:00.089000\n",
      "174\n",
      "0:30:07.931000\n",
      "This was the true wild west.\n",
      "0:30:10.683000\n",
      "175\n",
      "0:30:26.783000\n",
      "Every summer,\n",
      "the males roared their challenges\n",
      "0:30:29.911000\n",
      "176\n",
      "0:30:31.538000\n",
      "and fought for possession of the females.\n",
      "0:30:34.415000\n",
      "177\n",
      "0:30:55.603000\n",
      "As the rut intensified,\n",
      "the fights became more brutal.\n",
      "0:31:00.108000\n",
      "178\n",
      "0:31:34.017000\n",
      "Today, however,\n",
      "most of the prairie is silent.\n",
      "0:31:38.980000\n",
      "179\n",
      "0:31:44.193000\n",
      "Humans slaughtered the great herds.\n",
      "0:31:47.363000\n",
      "180\n",
      "0:31:51.117000\n",
      "Less than 30,000 wild bison remain,\n",
      "0:31:54.454000\n",
      "181\n",
      "0:31:57.332000\n",
      "and 90 percent of the prairie\n",
      "has been lost,\n",
      "0:32:01.085000\n",
      "182\n",
      "0:32:03.004000\n",
      "most of it to agriculture.\n",
      "0:32:05.298000\n",
      "183\n",
      "0:32:29.447000\n",
      "What we eat, and how we produce it,\n",
      "0:32:32.784000\n",
      "184\n",
      "0:32:33.493000\n",
      "will determine the future\n",
      "of our planet's grasslands.\n",
      "0:32:37.538000\n",
      "185\n",
      "0:32:45.254000\n",
      "Our past could show us\n",
      "how we can feed ourselves\n",
      "0:32:49.550000\n",
      "186\n",
      "0:32:49.926000\n",
      "and still leave room for nature.\n",
      "0:32:51.886000\n",
      "187\n",
      "0:32:55.848000\n",
      "The ancient hay meadows of Hungary,\n",
      "still farmed in the traditional way,\n",
      "0:33:01.396000\n",
      "188\n",
      "0:33:01.896000\n",
      "provide habitats\n",
      "of extraordinary richness.\n",
      "0:33:05.316000\n",
      "189\n",
      "0:33:17.161000\n",
      "Butterflies are abundant.\n",
      "0:33:19.372000\n",
      "190\n",
      "0:33:22.333000\n",
      "One species has\n",
      "an almost unbelievably complex life cycle.\n",
      "0:33:27.797000\n",
      "191\n",
      "0:33:32.135000\n",
      "The Alcon blue.\n",
      "0:33:33.845000\n",
      "192\n",
      "0:33:36.389000\n",
      "Each female must mate and lay eggs\n",
      "on just one species of plant,\n",
      "0:33:41.978000\n",
      "193\n",
      "0:33:42.478000\n",
      "the marsh gentian.\n",
      "0:33:43.563000\n",
      "194\n",
      "0:33:50.528000\n",
      "The eggs soon hatch into caterpillars.\n",
      "0:33:53.072000\n",
      "195\n",
      "0:33:55.825000\n",
      "High up on the plants,\n",
      "they're safe from predators below.\n",
      "0:34:00.246000\n",
      "196\n",
      "0:34:10.631000\n",
      "But then, the caterpillars\n",
      "do something seemingly suicidal.\n",
      "0:34:14.677000\n",
      "197\n",
      "0:34:18.806000\n",
      "They abseil down on threads of silk\n",
      "to the ground below...\n",
      "0:34:23.478000\n",
      "198\n",
      "0:34:25.313000\n",
      "and into danger.\n",
      "0:34:27.231000\n",
      "199\n",
      "0:34:35.073000\n",
      "They have no defense\n",
      "against the marauding ants,\n",
      "0:34:38.284000\n",
      "200\n",
      "0:34:38.367000\n",
      "which carry them off.\n",
      "0:34:39.577000\n",
      "201\n",
      "0:34:44.248000\n",
      "But this is exactly what the caterpillars\n",
      "need to happen.\n",
      "0:34:48.419000\n",
      "202\n",
      "0:34:51.214000\n",
      "They're producing a scent\n",
      "like that emitted by an ant larva.\n",
      "0:34:55.676000\n",
      "203\n",
      "0:35:00.056000\n",
      "The ants respond\n",
      "by taking them back to their nest.\n",
      "0:35:03.768000\n",
      "204\n",
      "0:35:11.150000\n",
      "There, they deposit them\n",
      "in the colony's brood chamber.\n",
      "0:35:14.862000\n",
      "205\n",
      "0:35:17.365000\n",
      "The purple-colored caterpillars,\n",
      "lying among the ants' own white larvae,\n",
      "0:35:21.869000\n",
      "206\n",
      "0:35:22.787000\n",
      "give off just the right signals.\n",
      "0:35:25.206000\n",
      "207\n",
      "0:35:29.919000\n",
      "And the nurse ants rush to feed them.\n",
      "0:35:32.380000\n",
      "208\n",
      "0:35:35.049000\n",
      "But there is more.\n",
      "0:35:36.300000\n",
      "209\n",
      "0:35:38.010000\n",
      "The caterpillars now start to mimic\n",
      "the sounds made by the queen ant,\n",
      "0:35:43.141000\n",
      "210\n",
      "0:35:46.018000\n",
      "and, as a result,\n",
      "the ants treat them like royalty.\n",
      "0:35:49.188000\n",
      "211\n",
      "0:35:53.484000\n",
      "If food gets short,\n",
      "0:35:54.944000\n",
      "212\n",
      "0:35:55.027000\n",
      "the ants will even feed the caterpillars\n",
      "instead of their own young.\n",
      "0:35:58.990000\n",
      "213\n",
      "0:36:01.659000\n",
      "They give them such quantities of food\n",
      "that the caterpillars grow hugely.\n",
      "0:36:06.622000\n",
      "214\n",
      "0:36:14.338000\n",
      "And there, underground, the caterpillars\n",
      "feed and grow for nearly two years.\n",
      "0:36:19.886000\n",
      "215\n",
      "0:36:21.137000\n",
      "Until, one day,\n",
      "there is nothing for the ants to feed.\n",
      "0:36:27.351000\n",
      "216\n",
      "0:36:30.229000\n",
      "The caterpillars have pupated.\n",
      "0:36:32.231000\n",
      "217\n",
      "0:36:41.157000\n"
     ]
    },
    {
     "name": "stdout",
     "output_type": "stream",
     "text": [
      "But a few weeks later,\n",
      "0:36:42.408000\n",
      "218\n",
      "0:36:43.242000\n",
      "out crawls an Alcon blue butterfly.\n",
      "0:36:46.913000\n",
      "219\n",
      "0:37:07.225000\n",
      "Now, they begin to leave the nest\n",
      "0:37:09.185000\n",
      "220\n",
      "0:37:09.268000\n",
      "that has been their home\n",
      "for the last 23 months.\n",
      "0:37:13.522000\n",
      "221\n",
      "0:37:31.082000\n",
      "The young adult\n",
      "makes its way out of the nest\n",
      "0:37:33.793000\n",
      "222\n",
      "0:37:34.293000\n",
      "and clambers up a grass stem.\n",
      "0:37:35.795000\n",
      "223\n",
      "0:37:36.545000\n",
      "Its wings expand\n",
      "as it prepares to fly off and find a mate.\n",
      "0:37:41.509000\n",
      "224\n",
      "0:37:46.097000\n",
      "This complex life\n",
      "may be laborsaving for the butterfly,\n",
      "0:37:50.476000\n",
      "225\n",
      "0:37:50.977000\n",
      "but it's risky.\n",
      "0:37:52.353000\n",
      "226\n",
      "0:37:54.480000\n",
      "If anything happened to the ants\n",
      "or to the gentian,\n",
      "0:37:57.858000\n",
      "227\n",
      "0:37:58.234000\n",
      "the Alcon blue would become extinct.\n",
      "0:38:01.362000\n",
      "228\n",
      "0:38:16.711000\n",
      "Only tiny fragments\n",
      "of these ancient meadows\n",
      "0:38:19.797000\n",
      "229\n",
      "0:38:19.880000\n",
      "are left in Europe.\n",
      "0:38:21.173000\n",
      "230\n",
      "0:38:24.051000\n",
      "But beyond them to the east,\n",
      "0:38:26.679000\n",
      "231\n",
      "0:38:27.054000\n",
      "once stretched grasslands that extended\n",
      "for a fifth of the way around the world,\n",
      "0:38:33.269000\n",
      "232\n",
      "0:38:33.811000\n",
      "from Romania to China.\n",
      "0:38:35.896000\n",
      "233\n",
      "0:38:58.919000\n",
      "Here, there are places where,\n",
      "for mile after endless mile,\n",
      "0:39:03.215000\n",
      "234\n",
      "0:39:03.841000\n",
      "there are no roads or fences.\n",
      "0:39:06.344000\n",
      "235\n",
      "0:39:11.599000\n",
      "Here, where there are no trees,\n",
      "eagles nest on the ground.\n",
      "0:39:16.437000\n",
      "236\n",
      "0:39:24.403000\n",
      "Once, these eagles would have preyed\n",
      "on antelope that numbered in millions.\n",
      "0:39:30.326000\n",
      "237\n",
      "0:39:35.623000\n",
      "And some are still here.\n",
      "0:39:37.583000\n",
      "238\n",
      "0:39:38.959000\n",
      "These are saiga, antelope that live\n",
      "nowhere else in the world.\n",
      "0:39:43.756000\n",
      "239\n",
      "0:39:46.008000\n",
      "Their extraordinary noses\n",
      "are specially adapted\n",
      "0:39:49.261000\n",
      "240\n",
      "0:39:49.470000\n",
      "to filter out the dust kicked up\n",
      "by the immense herds\n",
      "0:39:53.265000\n",
      "241\n",
      "0:39:53.432000\n",
      "that once lived here.\n",
      "0:39:54.600000\n",
      "242\n",
      "0:39:58.312000\n",
      "Now, they're critically endangered.\n",
      "0:40:00.815000\n",
      "243\n",
      "0:40:01.649000\n",
      "Poaching and the loss of habitat\n",
      "have had a devastating impact on them.\n",
      "0:40:06.112000\n",
      "244\n",
      "0:40:09.448000\n",
      "But conservation efforts have recently\n",
      "started to make a difference.\n",
      "0:40:13.494000\n",
      "245\n",
      "0:40:16.038000\n",
      "There is still hope\n",
      "for these extraordinary plains dwellers.\n",
      "0:40:20.668000\n",
      "246\n",
      "0:40:28.467000\n",
      "And the proof of this\n",
      "can be found further east, in Mongolia,\n",
      "0:40:33.180000\n",
      "247\n",
      "0:40:33.806000\n",
      "where the grasslands\n",
      "still remain largely intact.\n",
      "0:40:37.476000\n",
      "248\n",
      "0:40:43.107000\n",
      "These are Przewalski’s horses.\n",
      "0:40:45.693000\n",
      "249\n",
      "0:40:47.111000\n",
      "Fifty years ago,\n",
      "they were extinct in the wild,\n",
      "0:40:50.197000\n",
      "250\n",
      "0:40:51.198000\n",
      "but a few adults survived in captivity.\n",
      "0:40:54.076000\n",
      "251\n",
      "0:41:00.249000\n",
      "Careful breeding from 12 of them\n",
      "increased their numbers\n",
      "0:41:03.669000\n",
      "252\n",
      "0:41:03.919000\n",
      "until there were sufficient\n",
      "to release on the plains.\n",
      "0:41:06.964000\n",
      "253\n",
      "0:41:09.758000\n",
      "These are their descendants.\n",
      "0:41:11.886000\n",
      "254\n",
      "0:41:22.021000\n",
      "A stallion protects each harem.\n",
      "0:41:24.940000\n",
      "255\n",
      "0:41:29.570000\n",
      "They must be vigilant,\n",
      "and they race to defend their herd...\n",
      "0:41:34.283000\n",
      "256\n",
      "0:41:43.501000\n",
      "or chase off bachelors\n",
      "trying to lure away a mare.\n",
      "0:41:46.629000\n",
      "257\n",
      "0:42:01.268000\n",
      "With their numbers now topping 300,\n",
      "0:42:03.687000\n",
      "258\n",
      "0:42:05.105000\n",
      "the future for these wild horses\n",
      "looks more secure.\n",
      "0:42:08.651000\n",
      "259\n",
      "0:42:12.863000\n",
      "Their recovery was only possible\n",
      "0:42:14.990000\n",
      "260\n",
      "0:42:15.407000\n",
      "because the vast Mongolian steppe\n",
      "still remains largely untouched.\n",
      "0:42:20.663000\n",
      "261\n",
      "0:42:33.217000\n",
      "These grasses are some of the tallest\n",
      "to be found anywhere on our planet.\n",
      "0:42:39.306000\n",
      "262\n",
      "0:42:42.726000\n",
      "They're so tall\n",
      "they can conceal elephants.\n",
      "0:42:47.314000\n",
      "263\n",
      "0:42:56.365000\n",
      "They make the giants that live among them\n",
      "seem small.\n",
      "0:43:00.286000\n",
      "264\n",
      "0:43:19.305000\n",
      "A last hiding place\n",
      "0:43:21.223000\n",
      "265\n",
      "0:43:21.307000\n",
      "for the highly endangered\n",
      "greater one-horned rhino.\n",
      "0:43:25.686000\n",
      "266\n",
      "0:43:36.488000\n",
      "This is India,\n",
      "0:43:37.990000\n",
      "267\n",
      "0:43:39.742000\n",
      "one of the most populous countries\n",
      "on Earth.\n",
      "0:43:42.286000\n",
      "268\n",
      "0:43:45.289000\n",
      "Yet here there is a great determination\n",
      "to protect these crucial grasslands.\n",
      "0:43:51.420000\n",
      "269\n",
      "0:44:06.602000\n",
      "What must it be like\n",
      "0:44:08.145000\n",
      "270\n",
      "0:44:08.395000\n",
      "to live in this dense,\n",
      "claustrophobic world?\n",
      "0:44:12.191000\n",
      "271\n",
      "0:44:21.909000\n",
      "Just moving about\n",
      "could mean walking into danger.\n",
      "0:44:25.996000\n",
      "272\n",
      "0:44:41.679000\n",
      "The grasses conceal tigers.\n",
      "0:44:46.308000\n",
      "273\n",
      "0:44:57.069000\n",
      "Stripes and shadows blend.\n",
      "0:45:00.572000\n",
      "274\n",
      "0:45:14.545000\n",
      "Long grass\n",
      "may hide a tigress from her prey,\n",
      "0:45:18.924000\n",
      "275\n",
      "0:45:24.972000\n",
      "but it also hides the prey from her.\n",
      "0:45:28.809000\n",
      "276\n",
      "0:45:37.234000\n",
      "She must get within 20 meters of it.\n",
      "0:45:40.446000\n",
      "277\n",
      "0:45:46.618000\n",
      "And she must always know\n",
      "exactly where the prey are hidden.\n",
      "0:45:51.540000\n",
      "278\n",
      "0:46:42.800000\n",
      "She may have lost them.\n",
      "0:46:44.593000\n",
      "279\n",
      "0:47:06.907000\n",
      "She risks a look.\n",
      "0:47:09.117000\n",
      "280\n",
      "0:47:38.313000\n",
      "Every deer around\n",
      "now knows exactly where the tiger is.\n",
      "0:47:44.403000\n",
      "281\n",
      "0:47:58.750000\n",
      "Others have heard the signal\n",
      "that announced her failure.\n",
      "0:48:02.713000\n",
      "282\n",
      "0:48:11.847000\n",
      "Her cubs.\n",
      "0:48:12.847000\n",
      "283\n",
      "0:48:22.566000\n",
      "She had left them hidden in the grass.\n",
      "0:48:25.235000\n",
      "284\n",
      "0:48:39.625000\n",
      "In the last hundred years,\n",
      "0:48:41.710000\n",
      "285\n",
      "0:48:42.085000\n",
      "the number of wild tigers\n",
      "has declined by over 95 percent.\n",
      "0:48:47.799000\n",
      "286\n",
      "0:48:51.553000\n",
      "But here in India,\n",
      "0:48:52.971000\n",
      "287\n",
      "0:48:53.722000\n",
      "despite the enormous pressure\n",
      "from poaching,\n",
      "0:48:56.433000\n",
      "288\n",
      "0:48:57.517000\n",
      "and a growing human population,\n",
      "0:48:59.561000\n",
      "289\n",
      "0:49:01.063000\n",
      "tiger numbers are actually increasing.\n",
      "0:49:04.066000\n",
      "290\n",
      "0:49:13.450000\n",
      "Protect the precious space\n",
      "that grasslands and deserts provide,\n",
      "0:49:18.580000\n",
      "291\n",
      "0:49:21.166000\n",
      "and the animals will bounce back.\n",
      "0:49:24.169000\n",
      "292\n",
      "0:49:40.519000\n",
      "Please visit ourplanet.com\n",
      "0:49:42.729000\n",
      "293\n",
      "0:49:43.063000\n",
      "to discover what we need to do now\n",
      "to protect wild grasslands.\n",
      "0:49:47.901000\n",
      "294\n",
      "0:49:49.945000\n",
      "♪ I can hear the whole world\n",
      "Singing together ♪\n",
      "0:49:55.826000\n",
      "295\n",
      "0:49:58.453000\n",
      "♪ I can hear the whole world\n",
      "Say it's now or never ♪\n",
      "0:50:04.418000\n",
      "296\n",
      "0:50:07.212000\n",
      "♪ 'Cause it's not too late\n",
      "If we change our ways ♪\n",
      "0:50:11.508000\n",
      "297\n",
      "0:50:11.591000\n",
      "♪ And connect the dots to our problems ♪\n",
      "0:50:15.053000\n",
      "298\n",
      "0:50:15.470000\n",
      "♪ I can hear the whole world\n",
      "Say we're in this together ♪\n",
      "0:50:21.143000\n",
      "299\n",
      "0:50:21.601000\n",
      "♪ We're in this together ♪\n",
      "0:50:23.311000\n",
      "300\n"
     ]
    }
   ],
   "source": [
    "for i in range(len(subtitles)):\n",
    "    print(subtitles[i].start)\n",
    "    print(subtitles[i].content.replace('</i>','').replace('<i>',''))\n",
    "    print(subtitles[i].end)\n",
    "    print(i)\n"
   ]
  },
  {
   "cell_type": "code",
   "execution_count": null,
   "metadata": {},
   "outputs": [],
   "source": []
  }
 ],
 "metadata": {
  "kernelspec": {
   "display_name": "Python 3",
   "language": "python",
   "name": "python3"
  },
  "language_info": {
   "codemirror_mode": {
    "name": "ipython",
    "version": 3
   },
   "file_extension": ".py",
   "mimetype": "text/x-python",
   "name": "python",
   "nbconvert_exporter": "python",
   "pygments_lexer": "ipython3",
   "version": "3.7.4"
  }
 },
 "nbformat": 4,
 "nbformat_minor": 2
}
